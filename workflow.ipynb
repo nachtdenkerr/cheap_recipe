{
 "cells": [
  {
   "cell_type": "markdown",
   "id": "f6ae9179",
   "metadata": {},
   "source": [
    "## 1. Import all libraries"
   ]
  },
  {
   "cell_type": "code",
   "execution_count": 4,
   "id": "e2c1a233",
   "metadata": {},
   "outputs": [],
   "source": [
    "import os\n",
    "import json\n",
    "import requests\n",
    "import warnings\n",
    "import sqlite3\n",
    "from datetime import datetime, timedelta\n",
    "from openai import OpenAI\n",
    "from dotenv import load_dotenv\n",
    "\n",
    "from urllib3.exceptions import NotOpenSSLWarning\n",
    "warnings.simplefilter(\"ignore\", NotOpenSSLWarning)\n",
    "\n",
    "load_dotenv()\n",
    "\n",
    "OPENAI_API_KEY = os.environ.get(\"OPENAI_API_KEY\")\n",
    "SPOONACULAR_API_KEY = os.environ.get(\"SPOON_API_KEY\")"
   ]
  },
  {
   "cell_type": "markdown",
   "id": "91c6e376",
   "metadata": {},
   "source": [
    "## 2. Create cookies and headers\n",
    "*These variables are used for getting the XHR file from the website*"
   ]
  },
  {
   "cell_type": "code",
   "execution_count": 5,
   "id": "99d522c8",
   "metadata": {},
   "outputs": [],
   "source": [
    "cookies = {\n",
    "    'EDEKA_PRIVACY': '1%40087%7C6%7C5030%40%4091%401759168772089%2C1759168772089%2C1792864772089%40',\n",
    "    'EDEKA_PRIVACY_CENTER': '',\n",
    "    'JSESSIONID': '868E369E9FD720B0A453D661690D2FE1',\n",
    "    'atuserid': '%7B%22name%22%3A%22atuserid%22%2C%22val%22%3A%22OPT-OUT%22%2C%22options%22%3A%7B%22end%22%3A%222026-10-31T18%3A02%3A53.457Z%22%2C%22path%22%3A%22%2F%22%7D%7D',\n",
    "    'TCPID': '12591202533522197673',\n",
    "}\n",
    "\n",
    "headers = {\n",
    "    'accept': '*/*',\n",
    "    'accept-language': 'en-US,en;q=0.9,de;q=0.8,vi;q=0.7',\n",
    "    'if-none-match': '\"cvpwz8bzw34oqn\"',\n",
    "    'priority': 'u=1, i',\n",
    "    'referer': 'https://www.edeka.de/eh/s%C3%BCdwest/edeka-frank-erlachstra%C3%9Fe-45/angebote.jsp',\n",
    "    'sec-ch-ua': '\"Chromium\";v=\"140\", \"Not=A?Brand\";v=\"24\", \"Google Chrome\";v=\"140\"',\n",
    "    'sec-ch-ua-mobile': '?0',\n",
    "    'sec-ch-ua-platform': '\"macOS\"',\n",
    "    'sec-fetch-dest': 'empty',\n",
    "    'sec-fetch-mode': 'cors',\n",
    "    'sec-fetch-site': 'same-origin',\n",
    "    'user-agent': 'Mozilla/5.0 (Macintosh; Intel Mac OS X 10_15_7) AppleWebKit/537.36 (KHTML, like Gecko) Chrome/140.0.0.0 Safari/537.36',\n",
    "    # 'cookie': 'EDEKA_PRIVACY=1%40087%7C6%7C5030%40%4091%401759168772089%2C1759168772089%2C1792864772089%40; EDEKA_PRIVACY_CENTER=; JSESSIONID=868E369E9FD720B0A453D661690D2FE1; atuserid=%7B%22name%22%3A%22atuserid%22%2C%22val%22%3A%22OPT-OUT%22%2C%22options%22%3A%7B%22end%22%3A%222026-10-31T18%3A02%3A53.457Z%22%2C%22path%22%3A%22%2F%22%7D%7D; TCPID=12591202533522197673',\n",
    "}\n",
    "\n",
    "params = {\n",
    "    'path': 'api/offers?limit=999&marketId=10001604',\n",
    "}"
   ]
  },
  {
   "cell_type": "code",
   "execution_count": 6,
   "id": "f9042313",
   "metadata": {},
   "outputs": [],
   "source": [
    "def create_list_from_json(data):\n",
    "\timportant_fields = [\"title\", \"price\", \"category\", \"validTill\"]\n",
    "\tallowed_category = ['Fleisch & Wurst', 'Fisch & Meeresfrüchte', 'Molkerei & Käse', 'Tiefkühl', 'Obst & Gemüse', 'Grundnahrung']\n",
    "\treduced_items = []\n",
    "\toffers = data[\"offers\"]\n",
    "\tfor offer in offers:\n",
    "\t\tif (\"Vegan\" in offer['title']):\n",
    "\t\t\tcontinue\n",
    "\t\tif (offer[\"category\"][\"name\"] not in allowed_category):\n",
    "\t\t\tcontinue\t\n",
    "\t\titem = {}\n",
    "\t\tfor field in important_fields:\n",
    "\t\t\tif field == \"price\":\n",
    "\t\t\t\titem[field] = offer[field][\"value\"]\n",
    "\t\t\telif field == \"category\":\n",
    "\t\t\t\titem[field] = offer[field][\"name\"]\n",
    "\t\t\telif field == \"title\":\n",
    "\t\t\t\titem[\"raw_title\"] = offer[field]\n",
    "\t\t\telse:\n",
    "\t\t\t\titem[field] = offer[field]\n",
    "\t\treduced_items.append(item)\n",
    "\treturn reduced_items"
   ]
  },
  {
   "cell_type": "markdown",
   "id": "734e8c39",
   "metadata": {},
   "source": [
    "## 4. Get the data and convert to JSON"
   ]
  },
  {
   "cell_type": "code",
   "execution_count": 7,
   "id": "b4ea27c5",
   "metadata": {},
   "outputs": [],
   "source": [
    "response = requests.get('https://www.edeka.de/api/auth-proxy/', params=params, cookies=cookies, headers=headers)\n",
    "data = response.json()\n",
    "reduced_items = create_list_from_json(data)"
   ]
  },
  {
   "cell_type": "code",
   "execution_count": 8,
   "id": "ad449ea5",
   "metadata": {},
   "outputs": [],
   "source": [
    "def normalize_values(item_list):\n",
    "\tdt_format = \"%Y-%m-%d\"\n",
    "\tfor item in item_list:\n",
    "\t\titem[\"raw_title\"] = item[\"raw_title\"].replace(\"\\xa0\", \" \").strip()\n",
    "\t\titem[\"price\"] = float(item[\"price\"])\n",
    "\t\titem[\"validTill\"] = datetime.strptime(item[\"validTill\"], dt_format)\n",
    "\t\tif (\"Ab Donnerstag\" in item[\"raw_title\"]):\n",
    "\t\t\titem[\"validFrom\"] = item[\"validTill\"] - timedelta(days=2)\n",
    "\t\t\titem[\"raw_title\"] = item[\"raw_title\"].replace(\"Ab Donnerstag erhältlich: \", \"\")\n",
    "\t\telif (\"Am Samstag\" in item[\"raw_title\"]):\n",
    "\t\t\titem[\"validFrom\"] = item[\"validTill\"]\n",
    "\t\t\titem[\"raw_title\"] = item[\"raw_title\"].replace(\"Am Samstag erhältlich: \", \"\")\n",
    "\t\telse:\n",
    "\t\t\titem[\"validFrom\"] = item[\"validTill\"] - timedelta(days=6)\n",
    "\n",
    "normalize_values(reduced_items)"
   ]
  },
  {
   "cell_type": "code",
   "execution_count": 59,
   "id": "ab6ebff9",
   "metadata": {},
   "outputs": [
    {
     "name": "stdout",
     "output_type": "stream",
     "text": [
      "{'raw_title': 'Original Wagner Steinofen Pizza', 'price': 1.79, 'category': 'Tiefkühl', 'validTill': datetime.datetime(2025, 10, 4, 0, 0), 'validFrom': datetime.datetime(2025, 9, 28, 0, 0)}\n",
      "{'raw_title': 'Meggle Butter', 'price': 1.99, 'category': 'Molkerei & Käse', 'validTill': datetime.datetime(2025, 10, 4, 0, 0), 'validFrom': datetime.datetime(2025, 9, 28, 0, 0)}\n",
      "{'raw_title': 'Himbeeren', 'price': 1.99, 'category': 'Obst & Gemüse', 'validTill': datetime.datetime(2025, 10, 4, 0, 0), 'validFrom': datetime.datetime(2025, 9, 28, 0, 0)}\n",
      "{'raw_title': 'EDEKA Genussmomente Mandarinen', 'price': 1.49, 'category': 'Obst & Gemüse', 'validTill': datetime.datetime(2025, 10, 4, 0, 0), 'validFrom': datetime.datetime(2025, 9, 28, 0, 0)}\n",
      "{'raw_title': 'Frische Schweinelenden/ -filets', 'price': 1.11, 'category': 'Fleisch & Wurst', 'validTill': datetime.datetime(2025, 10, 4, 0, 0), 'validFrom': datetime.datetime(2025, 9, 28, 0, 0)}\n",
      "{'raw_title': 'Frische Puten-Schnitzel oder -Brust', 'price': 1.39, 'category': 'Fleisch & Wurst', 'validTill': datetime.datetime(2025, 10, 4, 0, 0), 'validFrom': datetime.datetime(2025, 9, 28, 0, 0)}\n",
      "{'raw_title': 'Hirschfleisch', 'price': 3.29, 'category': 'Fleisch & Wurst', 'validTill': datetime.datetime(2025, 10, 4, 0, 0), 'validFrom': datetime.datetime(2025, 9, 28, 0, 0)}\n",
      "{'raw_title': 'Zart gereiftes Rindfleisch aus Deutschland: Rinder-Rouladen', 'price': 1.99, 'category': 'Fleisch & Wurst', 'validTill': datetime.datetime(2025, 10, 4, 0, 0), 'validFrom': datetime.datetime(2025, 9, 28, 0, 0)}\n",
      "{'raw_title': 'Iberico-Schweinefleisch', 'price': 3.29, 'category': 'Fleisch & Wurst', 'validTill': datetime.datetime(2025, 10, 4, 0, 0), 'validFrom': datetime.datetime(2025, 9, 28, 0, 0)}\n",
      "{'raw_title': 'Württemberger Frische Lammkeule', 'price': 2.99, 'category': 'Fleisch & Wurst', 'validTill': datetime.datetime(2025, 10, 4, 0, 0), 'validFrom': datetime.datetime(2025, 9, 28, 0, 0)}\n",
      "{'raw_title': 'Zart gereiftes Rindfleisch aus Deutschland: Rinder-Keulenbraten', 'price': 1.89, 'category': 'Fleisch & Wurst', 'validTill': datetime.datetime(2025, 10, 4, 0, 0), 'validFrom': datetime.datetime(2025, 9, 28, 0, 0)}\n",
      "{'raw_title': 'Schinken-Krustenbraten', 'price': 8.99, 'category': 'Fleisch & Wurst', 'validTill': datetime.datetime(2025, 10, 4, 0, 0), 'validFrom': datetime.datetime(2025, 9, 28, 0, 0)}\n",
      "{'raw_title': 'Kaminschinken, Schlemmerbraten mit Kümmel', 'price': 2.29, 'category': 'Fleisch & Wurst', 'validTill': datetime.datetime(2025, 10, 4, 0, 0), 'validFrom': datetime.datetime(2025, 9, 28, 0, 0)}\n",
      "{'raw_title': 'Spanischer Serrano-Schinken', 'price': 2.29, 'category': 'Fleisch & Wurst', 'validTill': datetime.datetime(2025, 10, 4, 0, 0), 'validFrom': datetime.datetime(2025, 9, 28, 0, 0)}\n",
      "{'raw_title': 'Delikatess-Farmerschinken', 'price': 1.99, 'category': 'Fleisch & Wurst', 'validTill': datetime.datetime(2025, 10, 4, 0, 0), 'validFrom': datetime.datetime(2025, 9, 28, 0, 0)}\n",
      "{'raw_title': 'Lyoner-Aufschnitt gemischt', 'price': 0.99, 'category': 'Fleisch & Wurst', 'validTill': datetime.datetime(2025, 10, 4, 0, 0), 'validFrom': datetime.datetime(2025, 9, 28, 0, 0)}\n",
      "{'raw_title': 'Geflügelsalami', 'price': 1.99, 'category': 'Fleisch & Wurst', 'validTill': datetime.datetime(2025, 10, 4, 0, 0), 'validFrom': datetime.datetime(2025, 9, 28, 0, 0)}\n",
      "{'raw_title': 'Mettwurst Braunschweiger Art', 'price': 1.49, 'category': 'Fleisch & Wurst', 'validTill': datetime.datetime(2025, 10, 4, 0, 0), 'validFrom': datetime.datetime(2025, 9, 28, 0, 0)}\n",
      "{'raw_title': 'Hausmacher Spezialitäten: Leberwurst, Blutwurst im Ring', 'price': 0.99, 'category': 'Fleisch & Wurst', 'validTill': datetime.datetime(2025, 10, 4, 0, 0), 'validFrom': datetime.datetime(2025, 9, 28, 0, 0)}\n",
      "{'raw_title': 'Fleischkäsbrät fein oder grob', 'price': 5.99, 'category': 'Fleisch & Wurst', 'validTill': datetime.datetime(2025, 10, 4, 0, 0), 'validFrom': datetime.datetime(2025, 9, 28, 0, 0)}\n",
      "{'raw_title': 'Hofglück Wiener-/ Saiten-Würstchen', 'price': 1.49, 'category': 'Fleisch & Wurst', 'validTill': datetime.datetime(2025, 10, 4, 0, 0), 'validFrom': datetime.datetime(2025, 9, 28, 0, 0)}\n",
      "{'raw_title': 'Hofglück Schweine-Krone', 'price': 1.49, 'category': 'Fleisch & Wurst', 'validTill': datetime.datetime(2025, 10, 4, 0, 0), 'validFrom': datetime.datetime(2025, 9, 28, 0, 0)}\n",
      "{'raw_title': 'Bauer Butterkäse', 'price': 0.99, 'category': 'Molkerei & Käse', 'validTill': datetime.datetime(2025, 10, 4, 0, 0), 'validFrom': datetime.datetime(2025, 9, 28, 0, 0)}\n",
      "{'raw_title': 'Saint André Weinbergkäse', 'price': 1.79, 'category': 'Molkerei & Käse', 'validTill': datetime.datetime(2025, 10, 4, 0, 0), 'validFrom': datetime.datetime(2025, 9, 28, 0, 0)}\n",
      "{'raw_title': 'Käse des Monats: Unsere Heimat – echt & gut Allgäuer Bergkäse', 'price': 1.69, 'category': 'Molkerei & Käse', 'validTill': datetime.datetime(2025, 10, 4, 0, 0), 'validFrom': datetime.datetime(2025, 9, 28, 0, 0)}\n",
      "{'raw_title': 'Die Appenzellerin', 'price': 2.49, 'category': 'Molkerei & Käse', 'validTill': datetime.datetime(2025, 10, 4, 0, 0), 'validFrom': datetime.datetime(2025, 9, 28, 0, 0)}\n",
      "{'raw_title': 'Unsere Heimat – echt & gut Bioland-Bauernkäse', 'price': 1.49, 'category': 'Molkerei & Käse', 'validTill': datetime.datetime(2025, 10, 4, 0, 0), 'validFrom': datetime.datetime(2025, 10, 2, 0, 0)}\n",
      "{'raw_title': 'Jura Comté', 'price': 2.49, 'category': 'Molkerei & Käse', 'validTill': datetime.datetime(2025, 10, 4, 0, 0), 'validFrom': datetime.datetime(2025, 10, 2, 0, 0)}\n",
      "{'raw_title': '¹Lachsfilets', 'price': 2.49, 'category': 'Fisch & Meeresfrüchte', 'validTill': datetime.datetime(2025, 10, 4, 0, 0), 'validFrom': datetime.datetime(2025, 9, 28, 0, 0)}\n",
      "{'raw_title': '¹Backfisch', 'price': 1.99, 'category': 'Fisch & Meeresfrüchte', 'validTill': datetime.datetime(2025, 10, 4, 0, 0), 'validFrom': datetime.datetime(2025, 9, 28, 0, 0)}\n",
      "{'raw_title': '¹Rostocker Heringstopf', 'price': 1.29, 'category': 'Fisch & Meeresfrüchte', 'validTill': datetime.datetime(2025, 10, 4, 0, 0), 'validFrom': datetime.datetime(2025, 9, 28, 0, 0)}\n",
      "{'raw_title': 'Am Donnerstag erhältlich: ¹,²MSC Isländische Rotbarschfilets', 'price': 1.99, 'category': 'Fisch & Meeresfrüchte', 'validTill': datetime.datetime(2025, 10, 4, 0, 0), 'validFrom': datetime.datetime(2025, 9, 28, 0, 0)}\n",
      "{'raw_title': '¹Geräucherte Forellen', 'price': 1.99, 'category': 'Fisch & Meeresfrüchte', 'validTill': datetime.datetime(2025, 10, 4, 0, 0), 'validFrom': datetime.datetime(2025, 9, 28, 0, 0)}\n",
      "{'raw_title': 'EDEKA Herzstücke Trauben hell oder rot', 'price': 3.99, 'category': 'Obst & Gemüse', 'validTill': datetime.datetime(2025, 10, 4, 0, 0), 'validFrom': datetime.datetime(2025, 9, 28, 0, 0)}\n",
      "{'raw_title': 'SanLucar Trauben hell oder rot', 'price': 2.99, 'category': 'Obst & Gemüse', 'validTill': datetime.datetime(2025, 10, 4, 0, 0), 'validFrom': datetime.datetime(2025, 9, 28, 0, 0)}\n",
      "{'raw_title': 'Gut & Günstig Trauben rot', 'price': 1.49, 'category': 'Obst & Gemüse', 'validTill': datetime.datetime(2025, 10, 4, 0, 0), 'validFrom': datetime.datetime(2025, 9, 28, 0, 0)}\n",
      "{'raw_title': 'Bio Trauben hell', 'price': 1.99, 'category': 'Obst & Gemüse', 'validTill': datetime.datetime(2025, 10, 4, 0, 0), 'validFrom': datetime.datetime(2025, 9, 28, 0, 0)}\n",
      "{'raw_title': 'Bio Zespri Kiwis Gold Jumbo', 'price': 1.0, 'category': 'Obst & Gemüse', 'validTill': datetime.datetime(2025, 10, 4, 0, 0), 'validFrom': datetime.datetime(2025, 9, 28, 0, 0)}\n",
      "{'raw_title': 'Unserer Heimat – echt & gut Bio Endivien', 'price': 1.99, 'category': 'Obst & Gemüse', 'validTill': datetime.datetime(2025, 10, 4, 0, 0), 'validFrom': datetime.datetime(2025, 9, 28, 0, 0)}\n",
      "{'raw_title': '¹Topfrose in Filztüte', 'price': 5.99, 'category': 'Obst & Gemüse', 'validTill': datetime.datetime(2025, 10, 4, 0, 0), 'validFrom': datetime.datetime(2025, 9, 28, 0, 0)}\n",
      "{'raw_title': '¹Besenheide dreifarbig', 'price': 2.79, 'category': 'Obst & Gemüse', 'validTill': datetime.datetime(2025, 10, 4, 0, 0), 'validFrom': datetime.datetime(2025, 9, 28, 0, 0)}\n",
      "{'raw_title': '¹Herbststräuße', 'price': 6.99, 'category': 'Obst & Gemüse', 'validTill': datetime.datetime(2025, 10, 4, 0, 0), 'validFrom': datetime.datetime(2025, 10, 2, 0, 0)}\n",
      "{'raw_title': 'Unsere Heimat – echt & gut Bio Kürbisse „Gorgonzola“, „Hokkaido“, „Butternut“', 'price': 1.99, 'category': 'Obst & Gemüse', 'validTill': datetime.datetime(2025, 10, 4, 0, 0), 'validFrom': datetime.datetime(2025, 9, 28, 0, 0)}\n",
      "{'raw_title': 'Unsere Heimat – echt & gut Speisekartoffeln', 'price': 1.79, 'category': 'Obst & Gemüse', 'validTill': datetime.datetime(2025, 10, 4, 0, 0), 'validFrom': datetime.datetime(2025, 9, 28, 0, 0)}\n",
      "{'raw_title': 'Unsere Heimat – echt & gut Lauch', 'price': 1.49, 'category': 'Obst & Gemüse', 'validTill': datetime.datetime(2025, 10, 4, 0, 0), 'validFrom': datetime.datetime(2025, 9, 28, 0, 0)}\n",
      "{'raw_title': 'Unserer Heimat – echt & gut Radieschen', 'price': 0.59, 'category': 'Obst & Gemüse', 'validTill': datetime.datetime(2025, 10, 4, 0, 0), 'validFrom': datetime.datetime(2025, 9, 28, 0, 0)}\n",
      "{'raw_title': 'Suppengrün', 'price': 1.49, 'category': 'Obst & Gemüse', 'validTill': datetime.datetime(2025, 10, 4, 0, 0), 'validFrom': datetime.datetime(2025, 9, 28, 0, 0)}\n",
      "{'raw_title': 'Unsere Heimat – echt & gut Bio Demeter Knollensellerie mit Laub', 'price': 2.49, 'category': 'Obst & Gemüse', 'validTill': datetime.datetime(2025, 10, 4, 0, 0), 'validFrom': datetime.datetime(2025, 9, 28, 0, 0)}\n",
      "{'raw_title': 'Gut & Günstig Tafeläpfel rot', 'price': 2.49, 'category': 'Obst & Gemüse', 'validTill': datetime.datetime(2025, 10, 4, 0, 0), 'validFrom': datetime.datetime(2025, 9, 28, 0, 0)}\n",
      "{'raw_title': 'Gut & Günstig Möhren', 'price': 1.11, 'category': 'Obst & Gemüse', 'validTill': datetime.datetime(2025, 10, 4, 0, 0), 'validFrom': datetime.datetime(2025, 9, 28, 0, 0)}\n",
      "{'raw_title': 'Gut & Günstig Zwiebeln', 'price': 1.49, 'category': 'Obst & Gemüse', 'validTill': datetime.datetime(2025, 10, 4, 0, 0), 'validFrom': datetime.datetime(2025, 9, 28, 0, 0)}\n",
      "{'raw_title': 'Meica Curryking', 'price': 1.79, 'category': 'Fleisch & Wurst', 'validTill': datetime.datetime(2025, 10, 4, 0, 0), 'validFrom': datetime.datetime(2025, 9, 28, 0, 0)}\n",
      "{'raw_title': 'Krone Meine Lieblinge Lachs', 'price': 4.29, 'category': 'Fisch & Meeresfrüchte', 'validTill': datetime.datetime(2025, 10, 4, 0, 0), 'validFrom': datetime.datetime(2025, 9, 28, 0, 0)}\n",
      "{'raw_title': 'Exquisa Frischkäse', 'price': 1.11, 'category': 'Molkerei & Käse', 'validTill': datetime.datetime(2025, 10, 4, 0, 0), 'validFrom': datetime.datetime(2025, 9, 28, 0, 0)}\n",
      "{'raw_title': 'Grünländer in Scheiben', 'price': 1.79, 'category': 'Molkerei & Käse', 'validTill': datetime.datetime(2025, 10, 4, 0, 0), 'validFrom': datetime.datetime(2025, 9, 28, 0, 0)}\n",
      "{'raw_title': 'Galbani Mozzarella', 'price': 1.19, 'category': 'Molkerei & Käse', 'validTill': datetime.datetime(2025, 10, 4, 0, 0), 'validFrom': datetime.datetime(2025, 9, 28, 0, 0)}\n",
      "{'raw_title': 'Géramont original franz. Weichkäse oder Scheiben', 'price': 2.29, 'category': 'Molkerei & Käse', 'validTill': datetime.datetime(2025, 10, 4, 0, 0), 'validFrom': datetime.datetime(2025, 9, 28, 0, 0)}\n",
      "{'raw_title': 'Hofglück Bierschinken', 'price': 1.49, 'category': 'Fleisch & Wurst', 'validTill': datetime.datetime(2025, 10, 4, 0, 0), 'validFrom': datetime.datetime(2025, 9, 28, 0, 0)}\n",
      "{'raw_title': 'Wasner Münchner Weißwurst', 'price': 3.33, 'category': 'Fleisch & Wurst', 'validTill': datetime.datetime(2025, 10, 4, 0, 0), 'validFrom': datetime.datetime(2025, 9, 28, 0, 0)}\n",
      "{'raw_title': 'Schwarzwaldhof Landjäger', 'price': 2.49, 'category': 'Fleisch & Wurst', 'validTill': datetime.datetime(2025, 10, 4, 0, 0), 'validFrom': datetime.datetime(2025, 9, 28, 0, 0)}\n",
      "{'raw_title': 'Weihenstephan haltbare Milch', 'price': 1.19, 'category': 'Molkerei & Käse', 'validTill': datetime.datetime(2025, 10, 4, 0, 0), 'validFrom': datetime.datetime(2025, 9, 28, 0, 0)}\n",
      "{'raw_title': 'Danone Actimel Drink', 'price': 2.22, 'category': 'Molkerei & Käse', 'validTill': datetime.datetime(2025, 10, 4, 0, 0), 'validFrom': datetime.datetime(2025, 9, 28, 0, 0)}\n",
      "{'raw_title': 'Milka Schokoladenmilch', 'price': 1.79, 'category': 'Molkerei & Käse', 'validTill': datetime.datetime(2025, 10, 4, 0, 0), 'validFrom': datetime.datetime(2025, 9, 28, 0, 0)}\n",
      "{'raw_title': 'Dr. Oetker High Protein Grieß Pudding', 'price': 1.99, 'category': 'Molkerei & Käse', 'validTill': datetime.datetime(2025, 10, 4, 0, 0), 'validFrom': datetime.datetime(2025, 9, 28, 0, 0)}\n",
      "{'raw_title': 'Ehrmann Almighurt', 'price': 1.19, 'category': 'Molkerei & Käse', 'validTill': datetime.datetime(2025, 10, 4, 0, 0), 'validFrom': datetime.datetime(2025, 9, 28, 0, 0)}\n",
      "{'raw_title': 'Häagen-Dazs Eis Vanilla oder Salted Caramel', 'price': 4.99, 'category': 'Tiefkühl', 'validTill': datetime.datetime(2025, 10, 4, 0, 0), 'validFrom': datetime.datetime(2025, 9, 28, 0, 0)}\n",
      "{'raw_title': 'Langnese Magnum Eis', 'price': 2.79, 'category': 'Tiefkühl', 'validTill': datetime.datetime(2025, 10, 4, 0, 0), 'validFrom': datetime.datetime(2025, 9, 28, 0, 0)}\n",
      "{'raw_title': 'EDEKA Herzstücke Knusper Ente', 'price': 5.99, 'category': 'Tiefkühl', 'validTill': datetime.datetime(2025, 10, 4, 0, 0), 'validFrom': datetime.datetime(2025, 9, 28, 0, 0)}\n",
      "{'raw_title': 'Iglo Schlemmer-Filet oder Filegro', 'price': 2.79, 'category': 'Tiefkühl', 'validTill': datetime.datetime(2025, 10, 4, 0, 0), 'validFrom': datetime.datetime(2025, 9, 28, 0, 0)}\n",
      "{'raw_title': 'Golden Toast Dinkel Harmonie Sandwich', 'price': 2.29, 'category': 'Grundnahrung', 'validTill': datetime.datetime(2025, 10, 4, 0, 0), 'validFrom': datetime.datetime(2025, 9, 28, 0, 0)}\n",
      "{'raw_title': 'SB-Backstation: ³Weltmeisterbrötchen', 'price': 0.39, 'category': 'Grundnahrung', 'validTill': datetime.datetime(2025, 10, 4, 0, 0), 'validFrom': datetime.datetime(2025, 9, 28, 0, 0)}\n",
      "{'raw_title': '¹Urbrot', 'price': 3.29, 'category': 'Grundnahrung', 'validTill': datetime.datetime(2025, 10, 4, 0, 0), 'validFrom': datetime.datetime(2025, 9, 28, 0, 0)}\n",
      "{'raw_title': '¹Urkulturkorn Brot', 'price': 3.49, 'category': 'Grundnahrung', 'validTill': datetime.datetime(2025, 10, 4, 0, 0), 'validFrom': datetime.datetime(2025, 10, 2, 0, 0)}\n",
      "{'raw_title': 'Barilla italienische Teigwaren', 'price': 1.79, 'category': 'Grundnahrung', 'validTill': datetime.datetime(2025, 10, 4, 0, 0), 'validFrom': datetime.datetime(2025, 9, 28, 0, 0)}\n",
      "{'raw_title': 'Saupiquet Thunfisch Stücke ohne Öl', 'price': 2.49, 'category': 'Fisch & Meeresfrüchte', 'validTill': datetime.datetime(2025, 10, 4, 0, 0), 'validFrom': datetime.datetime(2025, 9, 28, 0, 0)}\n",
      "{'raw_title': 'Gut & Günstig Rispentomaten', 'price': 1.59, 'category': 'Obst & Gemüse', 'validTill': datetime.datetime(2025, 10, 4, 0, 0), 'validFrom': datetime.datetime(2025, 10, 2, 0, 0)}\n",
      "{'raw_title': 'Pfifferlinge frisch', 'price': 2.99, 'category': 'Obst & Gemüse', 'validTill': datetime.datetime(2025, 10, 4, 0, 0), 'validFrom': datetime.datetime(2025, 10, 2, 0, 0)}\n",
      "{'raw_title': 'Premium Lyoner/Fleischwurst', 'price': 3.99, 'category': 'Fleisch & Wurst', 'validTill': datetime.datetime(2025, 10, 4, 0, 0), 'validFrom': datetime.datetime(2025, 10, 2, 0, 0)}\n",
      "{'raw_title': 'Berchtesgadener Land Frische Bergbauern Milch', 'price': 1.11, 'category': 'Molkerei & Käse', 'validTill': datetime.datetime(2025, 10, 4, 0, 0), 'validFrom': datetime.datetime(2025, 10, 2, 0, 0)}\n",
      "{'raw_title': 'Ehrmann High Protein Pudding, Joghurt', 'price': 0.99, 'category': 'Molkerei & Käse', 'validTill': datetime.datetime(2025, 10, 4, 0, 0), 'validFrom': datetime.datetime(2025, 10, 2, 0, 0)}\n",
      "{'raw_title': 'Arla Finello', 'price': 1.49, 'category': 'Molkerei & Käse', 'validTill': datetime.datetime(2025, 10, 4, 0, 0), 'validFrom': datetime.datetime(2025, 10, 2, 0, 0)}\n",
      "{'raw_title': 'Unsere Heimat – echt & gut Eisbergsalat', 'price': 0.99, 'category': 'Obst & Gemüse', 'validTill': datetime.datetime(2025, 10, 4, 0, 0), 'validFrom': datetime.datetime(2025, 10, 4, 0, 0)}\n",
      "{'raw_title': 'Frische Hähnchenbrustfilets', 'price': 1.29, 'category': 'Fleisch & Wurst', 'validTill': datetime.datetime(2025, 10, 4, 0, 0), 'validFrom': datetime.datetime(2025, 10, 4, 0, 0)}\n"
     ]
    }
   ],
   "source": [
    "for item in reduced_items:\n",
    "\tprint(item)"
   ]
  },
  {
   "cell_type": "markdown",
   "id": "d7e4a3d7",
   "metadata": {},
   "source": [
    "## 5. Use LLM from OpenAI to generate a JSON with clean item title\n",
    "*This should be optimized to reduced the LLM runtime*"
   ]
  },
  {
   "cell_type": "code",
   "execution_count": 33,
   "id": "7f9b919a",
   "metadata": {},
   "outputs": [],
   "source": [
    "OpenAI.api_ley = OPENAI_API_KEY\n",
    "client = OpenAI()"
   ]
  },
  {
   "cell_type": "code",
   "execution_count": 59,
   "id": "bc63479b",
   "metadata": {},
   "outputs": [],
   "source": [
    "prompt = f\"\"\"\n",
    "\tGo through every dictionary item in the list ```{reduced_items}```\\\n",
    "\tand extract the core ingredient or food item; this name should be translated to English.\\\n",
    "\tFor example:\\\n",
    "\t- 'Original Wagner Steinofen Pizza' shoule be 'pizza'\\\n",
    "\t- 'Weihenstephan haltbare Milch' should be 'milk'\\\n",
    "\tRespond with JSON: create a list of dictionaries (key is products),\\\n",
    "\teach has one key 'clean_name' with the value is the extracted ingredient.\\\n",
    "\tMake sure that every item has one corresponding extracted name.\\\n",
    "\tIf you do not know the translation, leave the name emtpy ''.\\\n",
    "\tThere should be in total ```{len(reduced_items)}``` items.\n",
    "\"\"\""
   ]
  },
  {
   "cell_type": "code",
   "execution_count": 48,
   "id": "887d73ef",
   "metadata": {},
   "outputs": [],
   "source": [
    "we_did_not_specify_stop_tokens = True\n",
    "\n",
    "try:\n",
    "\tresponse = client.responses.create(\n",
    "\t\tmodel=\"gpt-4o-mini\",\n",
    "\t\tinput=[\n",
    "\t\t\t{\"role\": \"system\", \"content\": \"You are a helpful assistant designed to output JSON.\"},\n",
    "\t\t\t{\"role\": \"user\", \"content\": prompt}],\n",
    "\t\ttemperature=0.5,\n",
    "\t\ttext={\"format\": {\"type\": \"json_object\"} }\n",
    "\t)\n",
    "\t# Check if the conversation was too long for the context window, resulting in incomplete JSON \n",
    "\tif response.status == \"incomplete\" and response.incomplete_details.reason == \"max_output_tokens\":\n",
    "\t\t# your code should handle this error case\n",
    "\t\tpass\n",
    "\n",
    "\t# Check if the OpenAI safety system refused the request and generated a refusal instead\n",
    "\tif response.output[0].content[0].type == \"refusal\":\n",
    "\t\t# your code should handle this error case\n",
    "\t\t# In this case, the .content field will contain the explanation (if any) that the model generated for why it is refusing\n",
    "\t\tprint(response.output[0].content[0][\"refusal\"])\n",
    "\n",
    "\t# Check if the model's output included restricted content, so the generation of JSON was halted and may be partial\n",
    "\tif response.status == \"incomplete\" and response.incomplete_details.reason == \"content_filter\":\n",
    "\t\t# your code should handle this error case\n",
    "\t\tpass\n",
    "\n",
    "\t# if response.status == \"completed\":\n",
    "\t# \t# In this case the model has either successfully finished generating the JSON object according to your schema, or the model generated one of the tokens you provided as a \"stop token\"\n",
    "\n",
    "\t# \tif we_did_not_specify_stop_tokens:\n",
    "\t# \t\t# If you didn't specify any stop tokens, then the generation is complete and the content key will contain the serialized JSON object\n",
    "\t# \t\t# This will parse successfully and should now contain  \"{\"winner\": \"Los Angeles Dodgers\"}\"\n",
    "\t# \t\tprint(response.output_text)\n",
    "\t# \telse:\n",
    "\t# \t\t# Check if the response.output_text ends with one of your stop tokens and handle appropriately\n",
    "\t# \t\tpass\n",
    "except Exception as e:\n",
    "    # Your code should handle errors here, for example a network error calling the API\n",
    "    print(e)"
   ]
  },
  {
   "cell_type": "code",
   "execution_count": null,
   "id": "68bbe1ee",
   "metadata": {},
   "outputs": [],
   "source": [
    "## can use langchain for creating the json format and calling LLM\n",
    " \n",
    "from langchain.chat_models import init_chat_model\n",
    "from langchain.output_parsers.json import SimpleJsonOutputParser\n",
    "from langchain_core.output_parsers import PydanticOutputParser\n",
    "from langchain_core.prompts import PromptTemplate\n",
    "from langchain_openai import OpenAI\n",
    "from pydantic import BaseModel, Field, model_validator\n",
    "\n",
    "\n",
    "model = OpenAI(model_name=\"gpt-4o-mini\", temperature=0.0)\n",
    "\n",
    "class DiscountItem(BaseModel):\n",
    "\traw_title: str = Field(description=\"Item title based on the supermarket description\")\n",
    "\tprice: str = Field(description=\"Reduced price\")\n",
    "\tcategory: str = Field(description=\"Item category based on the supermarket description\")\n",
    "\tvalid_till: str = Field(description=\"price\")\n",
    "\tvalidFrom: str = Field(description=\"Item title based on the supermarket description\")\n",
    "\tclean_title: str = Field(description=\"Item title used in LLM\")\n",
    "\n",
    "    # You can add custom validation logic easily with Pydantic.\n",
    "    # @model_validator(mode=\"before\")\n",
    "    # @classmethod\n",
    "    # def question_ends_with_question_mark(cls, values: dict) -> dict:\n",
    "    #     setup = values.get(\"setup\")\n",
    "    #     if setup and setup[-1] != \"?\":\n",
    "    #         raise ValueError(\"Badly formed question!\")\n",
    "    #     return values\n",
    "    \n",
    "\n",
    "json_prompt = PromptTemplate.from_template(\n",
    "    \"Return a JSON object with an `answer` key that answers the following question: {question}\"\n",
    ")\n",
    "json_parser = SimpleJsonOutputParser()\n",
    "json_chain = json_prompt | model | json_parser\n"
   ]
  },
  {
   "cell_type": "code",
   "execution_count": 49,
   "id": "9e18a7c1",
   "metadata": {},
   "outputs": [],
   "source": [
    "json_clean_name = json.loads(response.output_text)\n",
    "try:\n",
    "\tclean_name_list = json_clean_name[\"products\"]\n",
    "\tfor i in range(len(reduced_items)):\n",
    "\t\treduced_items[i].update(clean_name_list[i])\n",
    "except Exception as e:\n",
    "\tprint(e)"
   ]
  },
  {
   "cell_type": "markdown",
   "id": "13034ffc",
   "metadata": {},
   "source": [
    "## 6. Connect a recipe API (Spoonacular) to query some recipes"
   ]
  },
  {
   "cell_type": "code",
   "execution_count": null,
   "id": "785f111f",
   "metadata": {},
   "outputs": [
    {
     "ename": "OperationalError",
     "evalue": "table products already exists",
     "output_type": "error",
     "traceback": [
      "\u001b[0;31m---------------------------------------------------------------------------\u001b[0m",
      "\u001b[0;31mOperationalError\u001b[0m                          Traceback (most recent call last)",
      "Cell \u001b[0;32mIn[36], line 3\u001b[0m\n\u001b[1;32m      1\u001b[0m con \u001b[38;5;241m=\u001b[39m sqlite3\u001b[38;5;241m.\u001b[39mconnect(\u001b[38;5;124m\"\u001b[39m\u001b[38;5;124mitems.db\u001b[39m\u001b[38;5;124m\"\u001b[39m)\n\u001b[1;32m      2\u001b[0m cur \u001b[38;5;241m=\u001b[39m con\u001b[38;5;241m.\u001b[39mcursor()\n\u001b[0;32m----> 3\u001b[0m \u001b[43mcur\u001b[49m\u001b[38;5;241;43m.\u001b[39;49m\u001b[43mexecute\u001b[49m\u001b[43m(\u001b[49m\u001b[38;5;124;43m\"\u001b[39;49m\u001b[38;5;124;43mCREATE TABLE products(id INTEGER PRIMARY KEY AUTOINCREMENT, raw_title TEXT, category TEXT, price REAL, valid_from DATE, valid_till TEXT, clean_name TEXT, source TEXT)\u001b[39;49m\u001b[38;5;124;43m\"\u001b[39;49m\u001b[43m)\u001b[49m\n\u001b[1;32m      4\u001b[0m con\u001b[38;5;241m.\u001b[39mcommit()\n\u001b[1;32m      5\u001b[0m \u001b[38;5;28;01mfor\u001b[39;00m item \u001b[38;5;129;01min\u001b[39;00m reduced_items:\n",
      "\u001b[0;31mOperationalError\u001b[0m: table products already exists"
     ]
    }
   ],
   "source": [
    "# Creating table using SQL\n",
    "\n",
    "con = sqlite3.connect(\"items.db\")\n",
    "cur = con.cursor()\n",
    "cur.execute(\"CREATE TABLE products(id INTEGER PRIMARY KEY AUTOINCREMENT, raw_title TEXT, category TEXT, price REAL, valid_from DATE, valid_till TEXT, clean_name TEXT, source TEXT)\")\n",
    "con.commit()\n",
    "for item in reduced_items:\n",
    "\tcur.execute(\"\"\"\n",
    "\tINSERT INTO products (raw_title, clean_name, category, price, valid_from, valid_till, source)\n",
    "\tVALUES (?, ?, ?, ?, ?, ?, ?)\n",
    "    \"\"\", (\n",
    "        item[\"raw_title\"], item[\"clean_name\"], item[\"category\"], \n",
    "\t\titem[\"price\"], item[\"validFrom\"], item[\"validTill\"], \"EDEKA\"\n",
    "    ))\n",
    "con.commit()"
   ]
  },
  {
   "cell_type": "code",
   "execution_count": 65,
   "id": "59e3cdfc",
   "metadata": {},
   "outputs": [],
   "source": [
    "con = sqlite3.connect(\"items.db\")\n",
    "cur = con.cursor()\n",
    "\n",
    "cur.execute(\"SELECT clean_name FROM products WHERE CATEGORY='Fleisch & Wurst'\")\n",
    "meat = [row[0] for row in cur.fetchall()]\n",
    "cur.execute(\"SELECT clean_name FROM products WHERE CATEGORY='Fisch & Meeresfrüchte'\")\n",
    "fish = [row[0] for row in cur.fetchall()]\n",
    "cur.execute(\"SELECT clean_name FROM products WHERE CATEGORY='Molkerei & Käse'\")\n",
    "cheese_n_milk = [row[0] for row in cur.fetchall()]\n",
    "cur.execute(\"SELECT clean_name FROM products WHERE CATEGORY='Obst & Gemüse'\")\n",
    "veggi = [row[0] for row in cur.fetchall()]\n",
    "cur.execute(\"SELECT clean_name FROM products WHERE CATEGORY='Grundnahrung'\")\n",
    "bread = [row[0] for row in cur.fetchall()]\n",
    "cur.execute(\"SELECT clean_name FROM products WHERE CATEGORY='Tiefkühl'\")\n",
    "frozen = [row[0] for row in cur.fetchall()]\n",
    "con.close()"
   ]
  },
  {
   "cell_type": "code",
   "execution_count": 44,
   "id": "bdc9755f",
   "metadata": {},
   "outputs": [],
   "source": [
    "params = {\n",
    "    \"ingredients\": \",\".join(ingredients[:10]),  # limit to a handful\n",
    "    \"number\": 10,\n",
    "    \"apiKey\": SPOONACULAR_API_KEY,\n",
    "}\n",
    "headers = {\n",
    "    'Content-Type': 'application/json',\n",
    "}\n",
    "resp = requests.get(\"https://api.spoonacular.com/recipes/findByIngredients\", params=params, headers=headers)\n",
    "recipes = resp.json()"
   ]
  },
  {
   "cell_type": "code",
   "execution_count": 46,
   "id": "4a7e1bfb",
   "metadata": {},
   "outputs": [
    {
     "name": "stdout",
     "output_type": "stream",
     "text": [
      "[{\"id\": 658134, \"title\": \"Redneck Breakfast on a Croissant\", \"image\": \"https://img.spoonacular.com/recipes/658134-312x231.jpg\", \"imageType\": \"jpg\", \"usedIngredientCount\": 2, \"missedIngredientCount\": 2, \"missedIngredients\": [{\"id\": 18239, \"amount\": 1.0, \"unit\": \"\", \"unitLong\": \"\", \"unitShort\": \"\", \"aisle\": \"Bakery/Bread\", \"name\": \"croissant\", \"original\": \"1 croissant\", \"originalName\": \"croissant\", \"meta\": [], \"image\": \"https://img.spoonacular.com/ingredients_100x100/croissants.jpg\"}, {\"id\": 1123, \"amount\": 1.0, \"unit\": \"\", \"unitLong\": \"\", \"unitShort\": \"\", \"aisle\": \"Milk, Eggs, Other Dairy\", \"name\": \"egg\", \"original\": \"1 egg\", \"originalName\": \"egg\", \"meta\": [], \"image\": \"https://img.spoonacular.com/ingredients_100x100/egg.png\"}], \"usedIngredients\": [{\"id\": 13346, \"amount\": 0.25, \"unit\": \"cup\", \"unitLong\": \"cups\", \"unitShort\": \"cup\", \"aisle\": \"Meat\", \"name\": \"corned beef hash\", \"original\": \"1/4 cup canned corned beef hash\", \"originalName\": \"canned corned beef hash\", \"meta\": [\"canned\"], \"extendedName\": \"canned corned beef hash\", \"image\": \"https://img.spoonacular.com/ingredients_100x100/corned-beef.png\"}, {\"id\": 1001, \"amount\": 0.5, \"unit\": \"teaspoon\", \"unitLong\": \"teaspoons\", \"unitShort\": \"tsp\", \"aisle\": \"Milk, Eggs, Other Dairy\", \"name\": \"butter\", \"original\": \"1/2 teaspoon butter\", \"originalName\": \"butter\", \"meta\": [], \"image\": \"https://img.spoonacular.com/ingredients_100x100/butter-sliced.jpg\"}], \"unusedIngredients\": [{\"id\": 98924, \"amount\": 1.0, \"unit\": \"serving\", \"unitLong\": \"serving\", \"unitShort\": \"serving\", \"aisle\": \"Baking\", \"name\": \"pizza\", \"original\": \"pizza\", \"originalName\": \"pizza\", \"meta\": [], \"image\": \"https://img.spoonacular.com/ingredients_100x100/brown-flour.jpg\"}, {\"id\": 9302, \"amount\": 1.0, \"unit\": \"serving\", \"unitLong\": \"serving\", \"unitShort\": \"serving\", \"aisle\": \"Produce\", \"name\": \"raspberries\", \"original\": \"raspberries\", \"originalName\": \"raspberries\", \"meta\": [], \"image\": \"https://img.spoonacular.com/ingredients_100x100/raspberries.jpg\"}, {\"id\": 9218, \"amount\": 1.0, \"unit\": \"serving\", \"unitLong\": \"serving\", \"unitShort\": \"serving\", \"aisle\": \"Canned and Jarred;Produce\", \"name\": \"mandarins\", \"original\": \"mandarins\", \"originalName\": \"mandarins\", \"meta\": [], \"image\": \"https://img.spoonacular.com/ingredients_100x100/mandarin-or-tangerines-or-clementines.jpg\"}, {\"id\": 10218, \"amount\": 1.0, \"unit\": \"serving\", \"unitLong\": \"serving\", \"unitShort\": \"serving\", \"aisle\": \"Meat\", \"name\": \"pork tenderloin\", \"original\": \"pork tenderloin\", \"originalName\": \"pork tenderloin\", \"meta\": [], \"image\": \"https://img.spoonacular.com/ingredients_100x100/pork-tenderloin-raw.png\"}, {\"id\": 5165, \"amount\": 1.0, \"unit\": \"serving\", \"unitLong\": \"serving\", \"unitShort\": \"serving\", \"aisle\": \"Meat\", \"name\": \"turkey schnitzel\", \"original\": \"turkey schnitzel\", \"originalName\": \"turkey schnitzel\", \"meta\": [], \"image\": \"https://img.spoonacular.com/ingredients_100x100/turkey-raw-whole.jpg\"}, {\"id\": 17164, \"amount\": 1.0, \"unit\": \"serving\", \"unitLong\": \"serving\", \"unitShort\": \"serving\", \"aisle\": \"Meat\", \"name\": \"venison\", \"original\": \"venison\", \"originalName\": \"venison\", \"meta\": [], \"image\": \"https://img.spoonacular.com/ingredients_100x100/deer-medaillons.jpg\"}, {\"id\": 93681, \"amount\": 1.0, \"unit\": \"serving\", \"unitLong\": \"serving\", \"unitShort\": \"serving\", \"aisle\": \"Meat\", \"name\": \"iberico pork\", \"original\": \"Iberico pork\", \"originalName\": \"Iberico pork\", \"meta\": [], \"image\": \"https://img.spoonacular.com/ingredients_100x100/proscuitto.jpg\"}, {\"id\": 13227, \"amount\": 1.0, \"unit\": \"serving\", \"unitLong\": \"serving\", \"unitShort\": \"serving\", \"aisle\": \"Meat\", \"name\": \"lamb shank\", \"original\": \"lamb shank\", \"originalName\": \"lamb shank\", \"meta\": [], \"image\": \"https://img.spoonacular.com/ingredients_100x100/sliced-beef-shank.png\"}], \"likes\": 1}, {\"id\": 642825, \"title\": \"Filet Mignan With Cognac Sauce\", \"image\": \"https://img.spoonacular.com/recipes/642825-312x231.jpg\", \"imageType\": \"jpg\", \"usedIngredientCount\": 2, \"missedIngredientCount\": 3, \"missedIngredients\": [{\"id\": 1022034, \"amount\": 0.5, \"unit\": \"tablespoon\", \"unitLong\": \"tablespoons\", \"unitShort\": \"Tbsp\", \"aisle\": \"Spices and Seasonings\", \"name\": \"montreal steak seasoning\", \"original\": \"1/2 tablespoon Montreal Steak Seasoning\", \"originalName\": \"Montreal Steak Seasoning\", \"meta\": [], \"image\": \"https://img.spoonacular.com/ingredients_100x100/seasoning.png\"}, {\"id\": 6008, \"amount\": 0.5, \"unit\": \"cup\", \"unitLong\": \"cups\", \"unitShort\": \"cup\", \"aisle\": \"Canned and Jarred\", \"name\": \"beef broth\", \"original\": \"1/2 cup Beef Broth\", \"originalName\": \"Beef Broth\", \"meta\": [], \"image\": \"https://img.spoonacular.com/ingredients_100x100/beef-broth.png\"}, {\"id\": 10414037, \"amount\": 2.0, \"unit\": \"ounces\", \"unitLong\": \"ounces\", \"unitShort\": \"oz\", \"aisle\": \"Alcoholic Beverages\", \"name\": \"fl. cognac\", \"original\": \"2 ounces Fl. Cognac\", \"originalName\": \"Fl. Cognac\", \"meta\": [], \"image\": \"https://img.spoonacular.com/ingredients_100x100/cognac.jpg\"}], \"usedIngredients\": [{\"id\": 10023583, \"amount\": 2.0, \"unit\": \"ounces\", \"unitLong\": \"ounces\", \"unitShort\": \"oz\", \"aisle\": \"Meat\", \"name\": \"beef tenderloin steaks\", \"original\": \"2 ounces \\u2013 4 beef tenderloin steaks\", \"originalName\": \"4 beef tenderloin steaks\", \"meta\": [], \"image\": \"https://img.spoonacular.com/ingredients_100x100/beef-tenderloin.jpg\"}, {\"id\": 1001, \"amount\": 2.0, \"unit\": \"tablespoons\", \"unitLong\": \"tablespoons\", \"unitShort\": \"Tbsp\", \"aisle\": \"Milk, Eggs, Other Dairy\", \"name\": \"butter\", \"original\": \"2 tablespoons butter\", \"originalName\": \"butter\", \"meta\": [], \"image\": \"https://img.spoonacular.com/ingredients_100x100/butter-sliced.jpg\"}], \"unusedIngredients\": [{\"id\": 98924, \"amount\": 1.0, \"unit\": \"serving\", \"unitLong\": \"serving\", \"unitShort\": \"serving\", \"aisle\": \"Baking\", \"name\": \"pizza\", \"original\": \"pizza\", \"originalName\": \"pizza\", \"meta\": [], \"image\": \"https://img.spoonacular.com/ingredients_100x100/brown-flour.jpg\"}, {\"id\": 9302, \"amount\": 1.0, \"unit\": \"serving\", \"unitLong\": \"serving\", \"unitShort\": \"serving\", \"aisle\": \"Produce\", \"name\": \"raspberries\", \"original\": \"raspberries\", \"originalName\": \"raspberries\", \"meta\": [], \"image\": \"https://img.spoonacular.com/ingredients_100x100/raspberries.jpg\"}, {\"id\": 9218, \"amount\": 1.0, \"unit\": \"serving\", \"unitLong\": \"serving\", \"unitShort\": \"serving\", \"aisle\": \"Canned and Jarred;Produce\", \"name\": \"mandarins\", \"original\": \"mandarins\", \"originalName\": \"mandarins\", \"meta\": [], \"image\": \"https://img.spoonacular.com/ingredients_100x100/mandarin-or-tangerines-or-clementines.jpg\"}, {\"id\": 10218, \"amount\": 1.0, \"unit\": \"serving\", \"unitLong\": \"serving\", \"unitShort\": \"serving\", \"aisle\": \"Meat\", \"name\": \"pork tenderloin\", \"original\": \"pork tenderloin\", \"originalName\": \"pork tenderloin\", \"meta\": [], \"image\": \"https://img.spoonacular.com/ingredients_100x100/pork-tenderloin-raw.png\"}, {\"id\": 5165, \"amount\": 1.0, \"unit\": \"serving\", \"unitLong\": \"serving\", \"unitShort\": \"serving\", \"aisle\": \"Meat\", \"name\": \"turkey schnitzel\", \"original\": \"turkey schnitzel\", \"originalName\": \"turkey schnitzel\", \"meta\": [], \"image\": \"https://img.spoonacular.com/ingredients_100x100/turkey-raw-whole.jpg\"}, {\"id\": 17164, \"amount\": 1.0, \"unit\": \"serving\", \"unitLong\": \"serving\", \"unitShort\": \"serving\", \"aisle\": \"Meat\", \"name\": \"venison\", \"original\": \"venison\", \"originalName\": \"venison\", \"meta\": [], \"image\": \"https://img.spoonacular.com/ingredients_100x100/deer-medaillons.jpg\"}, {\"id\": 93681, \"amount\": 1.0, \"unit\": \"serving\", \"unitLong\": \"serving\", \"unitShort\": \"serving\", \"aisle\": \"Meat\", \"name\": \"iberico pork\", \"original\": \"Iberico pork\", \"originalName\": \"Iberico pork\", \"meta\": [], \"image\": \"https://img.spoonacular.com/ingredients_100x100/proscuitto.jpg\"}, {\"id\": 13227, \"amount\": 1.0, \"unit\": \"serving\", \"unitLong\": \"serving\", \"unitShort\": \"serving\", \"aisle\": \"Meat\", \"name\": \"lamb shank\", \"original\": \"lamb shank\", \"originalName\": \"lamb shank\", \"meta\": [], \"image\": \"https://img.spoonacular.com/ingredients_100x100/sliced-beef-shank.png\"}], \"likes\": 1}, {\"id\": 653078, \"title\": \"New York Strip With Beurre Maitre D'hotel\", \"image\": \"https://img.spoonacular.com/recipes/653078-312x231.jpg\", \"imageType\": \"jpg\", \"usedIngredientCount\": 2, \"missedIngredientCount\": 3, \"missedIngredients\": [{\"id\": 10511297, \"amount\": 0.25, \"unit\": \"cup\", \"unitLong\": \"cups\", \"unitShort\": \"cup\", \"aisle\": \"Produce\", \"name\": \"parsley\", \"original\": \"1/4 cup minced fresh parsley\", \"originalName\": \"minced fresh parsley\", \"meta\": [\"fresh\", \"minced\"], \"extendedName\": \"fresh parsley\", \"image\": \"https://img.spoonacular.com/ingredients_100x100/parsley.jpg\"}, {\"id\": 9152, \"amount\": 3.0, \"unit\": \"teaspoons\", \"unitLong\": \"teaspoons\", \"unitShort\": \"tsp\", \"aisle\": \"Produce\", \"name\": \"lemon juice\", \"original\": \"3 teaspoons fresh lemon juice\", \"originalName\": \"fresh lemon juice\", \"meta\": [\"fresh\"], \"extendedName\": \"fresh lemon juice\", \"image\": \"https://img.spoonacular.com/ingredients_100x100/lemon-juice.jpg\"}, {\"id\": 1022050, \"amount\": 6.0, \"unit\": \"servings\", \"unitLong\": \"servings\", \"unitShort\": \"servings\", \"aisle\": \"Baking\", \"name\": \"essence\", \"original\": \"Essence to taste\", \"originalName\": \"Essence to taste\", \"meta\": [\"to taste\"], \"image\": \"https://img.spoonacular.com/ingredients_100x100/vanilla-extract.jpg\"}], \"usedIngredients\": [{\"id\": 1145, \"amount\": 2.0, \"unit\": \"\", \"unitLong\": \"\", \"unitShort\": \"\", \"aisle\": \"Milk, Eggs, Other Dairy\", \"name\": \"stk butter\", \"original\": \"2 stk unsalted butter room temperature\", \"originalName\": \"stk unsalted butter room temperature\", \"meta\": [\"unsalted\", \"room temperature\"], \"extendedName\": \"unsalted stk butter\", \"image\": \"https://img.spoonacular.com/ingredients_100x100/butter-sliced.jpg\"}, {\"id\": 93713, \"amount\": 4.0, \"unit\": \"pounds\", \"unitLong\": \"pounds\", \"unitShort\": \"lb\", \"aisle\": \"Meat\", \"name\": \"beef new york strip roast\", \"original\": \"4 pounds boneless beef New York strip roast fat trimmed\", \"originalName\": \"boneless beef New York strip roast fat trimmed\", \"meta\": [\"boneless\", \"fat trimmed\"], \"extendedName\": \"lean boneless beef new york strip roast\", \"image\": \"https://img.spoonacular.com/ingredients_100x100/roast-beef-slices.jpg\"}], \"unusedIngredients\": [{\"id\": 98924, \"amount\": 1.0, \"unit\": \"serving\", \"unitLong\": \"serving\", \"unitShort\": \"serving\", \"aisle\": \"Baking\", \"name\": \"pizza\", \"original\": \"pizza\", \"originalName\": \"pizza\", \"meta\": [], \"image\": \"https://img.spoonacular.com/ingredients_100x100/brown-flour.jpg\"}, {\"id\": 9302, \"amount\": 1.0, \"unit\": \"serving\", \"unitLong\": \"serving\", \"unitShort\": \"serving\", \"aisle\": \"Produce\", \"name\": \"raspberries\", \"original\": \"raspberries\", \"originalName\": \"raspberries\", \"meta\": [], \"image\": \"https://img.spoonacular.com/ingredients_100x100/raspberries.jpg\"}, {\"id\": 9218, \"amount\": 1.0, \"unit\": \"serving\", \"unitLong\": \"serving\", \"unitShort\": \"serving\", \"aisle\": \"Canned and Jarred;Produce\", \"name\": \"mandarins\", \"original\": \"mandarins\", \"originalName\": \"mandarins\", \"meta\": [], \"image\": \"https://img.spoonacular.com/ingredients_100x100/mandarin-or-tangerines-or-clementines.jpg\"}, {\"id\": 10218, \"amount\": 1.0, \"unit\": \"serving\", \"unitLong\": \"serving\", \"unitShort\": \"serving\", \"aisle\": \"Meat\", \"name\": \"pork tenderloin\", \"original\": \"pork tenderloin\", \"originalName\": \"pork tenderloin\", \"meta\": [], \"image\": \"https://img.spoonacular.com/ingredients_100x100/pork-tenderloin-raw.png\"}, {\"id\": 5165, \"amount\": 1.0, \"unit\": \"serving\", \"unitLong\": \"serving\", \"unitShort\": \"serving\", \"aisle\": \"Meat\", \"name\": \"turkey schnitzel\", \"original\": \"turkey schnitzel\", \"originalName\": \"turkey schnitzel\", \"meta\": [], \"image\": \"https://img.spoonacular.com/ingredients_100x100/turkey-raw-whole.jpg\"}, {\"id\": 17164, \"amount\": 1.0, \"unit\": \"serving\", \"unitLong\": \"serving\", \"unitShort\": \"serving\", \"aisle\": \"Meat\", \"name\": \"venison\", \"original\": \"venison\", \"originalName\": \"venison\", \"meta\": [], \"image\": \"https://img.spoonacular.com/ingredients_100x100/deer-medaillons.jpg\"}, {\"id\": 93681, \"amount\": 1.0, \"unit\": \"serving\", \"unitLong\": \"serving\", \"unitShort\": \"serving\", \"aisle\": \"Meat\", \"name\": \"iberico pork\", \"original\": \"Iberico pork\", \"originalName\": \"Iberico pork\", \"meta\": [], \"image\": \"https://img.spoonacular.com/ingredients_100x100/proscuitto.jpg\"}, {\"id\": 13227, \"amount\": 1.0, \"unit\": \"serving\", \"unitLong\": \"serving\", \"unitShort\": \"serving\", \"aisle\": \"Meat\", \"name\": \"lamb shank\", \"original\": \"lamb shank\", \"originalName\": \"lamb shank\", \"meta\": [], \"image\": \"https://img.spoonacular.com/ingredients_100x100/sliced-beef-shank.png\"}], \"likes\": 1}, {\"id\": 644543, \"title\": \"Ginger and Lime Cheesecake\", \"image\": \"https://img.spoonacular.com/recipes/644543-312x231.jpg\", \"imageType\": \"jpg\", \"usedIngredientCount\": 2, \"missedIngredientCount\": 4, \"missedIngredients\": [{\"id\": 1011053, \"amount\": 250.0, \"unit\": \"ml\", \"unitLong\": \"milliliters\", \"unitShort\": \"ml\", \"aisle\": \"Milk, Eggs, Other Dairy\", \"name\": \"double cream\", \"original\": \"250 ml double cream\", \"originalName\": \"double cream\", \"meta\": [], \"image\": \"https://img.spoonacular.com/ingredients_100x100/white-cream.png\"}, {\"id\": 1001017, \"amount\": 300.0, \"unit\": \"grams\", \"unitLong\": \"grams\", \"unitShort\": \"g\", \"aisle\": \"Cheese\", \"name\": \"full fat cheese\", \"original\": \"300 grams full fat soft cheese\", \"originalName\": \"full fat soft cheese\", \"meta\": [\"soft\"], \"image\": \"https://img.spoonacular.com/ingredients_100x100/cream-cheese.jpg\"}, {\"id\": 11216, \"amount\": 1.0, \"unit\": \"serving\", \"unitLong\": \"serving\", \"unitShort\": \"serving\", \"aisle\": \"Produce\", \"name\": \"ginger\", \"original\": \"Chopped ginger\", \"originalName\": \"Chopped ginger\", \"meta\": [\"chopped\"], \"image\": \"https://img.spoonacular.com/ingredients_100x100/ginger.png\"}, {\"id\": 1009159, \"amount\": 1.0, \"unit\": \"serving\", \"unitLong\": \"serving\", \"unitShort\": \"serving\", \"aisle\": \"Produce\", \"name\": \"lime zest\", \"original\": \"Lime zest\", \"originalName\": \"Lime zest\", \"meta\": [], \"image\": \"https://img.spoonacular.com/ingredients_100x100/zest-lime.jpg\"}], \"usedIngredients\": [{\"id\": 23572, \"amount\": 2.0, \"unit\": \"\", \"unitLong\": \"\", \"unitShort\": \"\", \"aisle\": \"Frozen\", \"name\": \"limes - juice and rind\", \"original\": \"2 limes - juice and rind\", \"originalName\": \"limes - juice and rind\", \"meta\": [], \"image\": \"https://img.spoonacular.com/ingredients_100x100/beef-cubes-raw.png\"}, {\"id\": 1145, \"amount\": 115.0, \"unit\": \"grams\", \"unitLong\": \"grams\", \"unitShort\": \"g\", \"aisle\": \"Milk, Eggs, Other Dairy\", \"name\": \"butter\", \"original\": \"115 grams unsalted butter - melted\", \"originalName\": \"unsalted butter - melted\", \"meta\": [\"unsalted\", \"melted\"], \"extendedName\": \"unsalted butter\", \"image\": \"https://img.spoonacular.com/ingredients_100x100/butter-sliced.jpg\"}], \"unusedIngredients\": [{\"id\": 98924, \"amount\": 1.0, \"unit\": \"serving\", \"unitLong\": \"serving\", \"unitShort\": \"serving\", \"aisle\": \"Baking\", \"name\": \"pizza\", \"original\": \"pizza\", \"originalName\": \"pizza\", \"meta\": [], \"image\": \"https://img.spoonacular.com/ingredients_100x100/brown-flour.jpg\"}, {\"id\": 9302, \"amount\": 1.0, \"unit\": \"serving\", \"unitLong\": \"serving\", \"unitShort\": \"serving\", \"aisle\": \"Produce\", \"name\": \"raspberries\", \"original\": \"raspberries\", \"originalName\": \"raspberries\", \"meta\": [], \"image\": \"https://img.spoonacular.com/ingredients_100x100/raspberries.jpg\"}, {\"id\": 9218, \"amount\": 1.0, \"unit\": \"serving\", \"unitLong\": \"serving\", \"unitShort\": \"serving\", \"aisle\": \"Canned and Jarred;Produce\", \"name\": \"mandarins\", \"original\": \"mandarins\", \"originalName\": \"mandarins\", \"meta\": [], \"image\": \"https://img.spoonacular.com/ingredients_100x100/mandarin-or-tangerines-or-clementines.jpg\"}, {\"id\": 10218, \"amount\": 1.0, \"unit\": \"serving\", \"unitLong\": \"serving\", \"unitShort\": \"serving\", \"aisle\": \"Meat\", \"name\": \"pork tenderloin\", \"original\": \"pork tenderloin\", \"originalName\": \"pork tenderloin\", \"meta\": [], \"image\": \"https://img.spoonacular.com/ingredients_100x100/pork-tenderloin-raw.png\"}, {\"id\": 5165, \"amount\": 1.0, \"unit\": \"serving\", \"unitLong\": \"serving\", \"unitShort\": \"serving\", \"aisle\": \"Meat\", \"name\": \"turkey schnitzel\", \"original\": \"turkey schnitzel\", \"originalName\": \"turkey schnitzel\", \"meta\": [], \"image\": \"https://img.spoonacular.com/ingredients_100x100/turkey-raw-whole.jpg\"}, {\"id\": 17164, \"amount\": 1.0, \"unit\": \"serving\", \"unitLong\": \"serving\", \"unitShort\": \"serving\", \"aisle\": \"Meat\", \"name\": \"venison\", \"original\": \"venison\", \"originalName\": \"venison\", \"meta\": [], \"image\": \"https://img.spoonacular.com/ingredients_100x100/deer-medaillons.jpg\"}, {\"id\": 93681, \"amount\": 1.0, \"unit\": \"serving\", \"unitLong\": \"serving\", \"unitShort\": \"serving\", \"aisle\": \"Meat\", \"name\": \"iberico pork\", \"original\": \"Iberico pork\", \"originalName\": \"Iberico pork\", \"meta\": [], \"image\": \"https://img.spoonacular.com/ingredients_100x100/proscuitto.jpg\"}, {\"id\": 13227, \"amount\": 1.0, \"unit\": \"serving\", \"unitLong\": \"serving\", \"unitShort\": \"serving\", \"aisle\": \"Meat\", \"name\": \"lamb shank\", \"original\": \"lamb shank\", \"originalName\": \"lamb shank\", \"meta\": [], \"image\": \"https://img.spoonacular.com/ingredients_100x100/sliced-beef-shank.png\"}], \"likes\": 1}, {\"id\": 631750, \"title\": \"Flank Steak with Mushroom Sauce\", \"image\": \"https://img.spoonacular.com/recipes/631750-312x231.jpg\", \"imageType\": \"jpg\", \"usedIngredientCount\": 2, \"missedIngredientCount\": 5, \"missedIngredients\": [{\"id\": 6008, \"amount\": 2.0, \"unit\": \"packets\", \"unitLong\": \"packets\", \"unitShort\": \"packets\", \"aisle\": \"Canned and Jarred\", \"name\": \"flavor concentrated beef broth\", \"original\": \"2 packets Swanson\\u00ae Flavor Concentrated Beef Broth\", \"originalName\": \"Swanson\\u00ae Flavor Concentrated Beef Broth\", \"meta\": [\"swanson\\u00ae\"], \"image\": \"https://img.spoonacular.com/ingredients_100x100/beef-broth.png\"}, {\"id\": 2063, \"amount\": 1.0, \"unit\": \"tablespoon\", \"unitLong\": \"tablespoon\", \"unitShort\": \"Tbsp\", \"aisle\": \"Produce\", \"name\": \"rosemary leaves\", \"original\": \"1 tablespoon chopped fresh rosemary leaves\", \"originalName\": \"chopped fresh rosemary leaves\", \"meta\": [\"fresh\", \"chopped\"], \"extendedName\": \"fresh rosemary leaves\", \"image\": \"https://img.spoonacular.com/ingredients_100x100/rosemary.jpg\"}, {\"id\": 11215, \"amount\": 4.0, \"unit\": \"cloves\", \"unitLong\": \"cloves\", \"unitShort\": \"cloves\", \"aisle\": \"Produce\", \"name\": \"garlic\", \"original\": \"4 cloves garlic, minced\", \"originalName\": \"garlic, minced\", \"meta\": [\"minced\"], \"image\": \"https://img.spoonacular.com/ingredients_100x100/garlic.png\"}, {\"id\": 11260, \"amount\": 3.0, \"unit\": \"cups\", \"unitLong\": \"cups\", \"unitShort\": \"cup\", \"aisle\": \"Produce\", \"name\": \"mushrooms\", \"original\": \"8 ounces mushrooms, sliced (about 3 cups)\", \"originalName\": \"ounces mushrooms, sliced (about\", \"meta\": [\"sliced\"], \"image\": \"https://img.spoonacular.com/ingredients_100x100/mushrooms.png\"}, {\"id\": 11677, \"amount\": 1.0, \"unit\": \"\", \"unitLong\": \"\", \"unitShort\": \"\", \"aisle\": \"Produce\", \"name\": \"shallot\", \"original\": \"1 shallot, diced\", \"originalName\": \"shallot, diced\", \"meta\": [\"diced\"], \"extendedName\": \"diced shallot\", \"image\": \"https://img.spoonacular.com/ingredients_100x100/shallots.jpg\"}], \"usedIngredients\": [{\"id\": 1001, \"amount\": 2.0, \"unit\": \"tablespoons\", \"unitLong\": \"tablespoons\", \"unitShort\": \"Tbsp\", \"aisle\": \"Milk, Eggs, Other Dairy\", \"name\": \"butter\", \"original\": \"2 tablespoons butter\", \"originalName\": \"butter\", \"meta\": [], \"image\": \"https://img.spoonacular.com/ingredients_100x100/butter-sliced.jpg\"}, {\"id\": 23657, \"amount\": 1.0, \"unit\": \"\", \"unitLong\": \"\", \"unitShort\": \"\", \"aisle\": \"Meat\", \"name\": \"flank steak\", \"original\": \"1 flank steak\", \"originalName\": \"flank steak\", \"meta\": [], \"image\": \"https://img.spoonacular.com/ingredients_100x100/flank-steak.jpg\"}], \"unusedIngredients\": [{\"id\": 98924, \"amount\": 1.0, \"unit\": \"serving\", \"unitLong\": \"serving\", \"unitShort\": \"serving\", \"aisle\": \"Baking\", \"name\": \"pizza\", \"original\": \"pizza\", \"originalName\": \"pizza\", \"meta\": [], \"image\": \"https://img.spoonacular.com/ingredients_100x100/brown-flour.jpg\"}, {\"id\": 9302, \"amount\": 1.0, \"unit\": \"serving\", \"unitLong\": \"serving\", \"unitShort\": \"serving\", \"aisle\": \"Produce\", \"name\": \"raspberries\", \"original\": \"raspberries\", \"originalName\": \"raspberries\", \"meta\": [], \"image\": \"https://img.spoonacular.com/ingredients_100x100/raspberries.jpg\"}, {\"id\": 9218, \"amount\": 1.0, \"unit\": \"serving\", \"unitLong\": \"serving\", \"unitShort\": \"serving\", \"aisle\": \"Canned and Jarred;Produce\", \"name\": \"mandarins\", \"original\": \"mandarins\", \"originalName\": \"mandarins\", \"meta\": [], \"image\": \"https://img.spoonacular.com/ingredients_100x100/mandarin-or-tangerines-or-clementines.jpg\"}, {\"id\": 10218, \"amount\": 1.0, \"unit\": \"serving\", \"unitLong\": \"serving\", \"unitShort\": \"serving\", \"aisle\": \"Meat\", \"name\": \"pork tenderloin\", \"original\": \"pork tenderloin\", \"originalName\": \"pork tenderloin\", \"meta\": [], \"image\": \"https://img.spoonacular.com/ingredients_100x100/pork-tenderloin-raw.png\"}, {\"id\": 5165, \"amount\": 1.0, \"unit\": \"serving\", \"unitLong\": \"serving\", \"unitShort\": \"serving\", \"aisle\": \"Meat\", \"name\": \"turkey schnitzel\", \"original\": \"turkey schnitzel\", \"originalName\": \"turkey schnitzel\", \"meta\": [], \"image\": \"https://img.spoonacular.com/ingredients_100x100/turkey-raw-whole.jpg\"}, {\"id\": 17164, \"amount\": 1.0, \"unit\": \"serving\", \"unitLong\": \"serving\", \"unitShort\": \"serving\", \"aisle\": \"Meat\", \"name\": \"venison\", \"original\": \"venison\", \"originalName\": \"venison\", \"meta\": [], \"image\": \"https://img.spoonacular.com/ingredients_100x100/deer-medaillons.jpg\"}, {\"id\": 93681, \"amount\": 1.0, \"unit\": \"serving\", \"unitLong\": \"serving\", \"unitShort\": \"serving\", \"aisle\": \"Meat\", \"name\": \"iberico pork\", \"original\": \"Iberico pork\", \"originalName\": \"Iberico pork\", \"meta\": [], \"image\": \"https://img.spoonacular.com/ingredients_100x100/proscuitto.jpg\"}, {\"id\": 13227, \"amount\": 1.0, \"unit\": \"serving\", \"unitLong\": \"serving\", \"unitShort\": \"serving\", \"aisle\": \"Meat\", \"name\": \"lamb shank\", \"original\": \"lamb shank\", \"originalName\": \"lamb shank\", \"meta\": [], \"image\": \"https://img.spoonacular.com/ingredients_100x100/sliced-beef-shank.png\"}], \"likes\": 72}, {\"id\": 634703, \"title\": \"Beef Tenderloin With Creamy Alouette\\u00ae Mushroom Sauce\", \"image\": \"https://img.spoonacular.com/recipes/634703-312x231.jpg\", \"imageType\": \"jpg\", \"usedIngredientCount\": 2, \"missedIngredientCount\": 5, \"missedIngredients\": [{\"id\": 11265, \"amount\": 2.0, \"unit\": \"cups\", \"unitLong\": \"cups\", \"unitShort\": \"cup\", \"aisle\": \"Produce\", \"name\": \"baby portobello mushrooms\", \"original\": \"2 cups sliced baby Portobello mushrooms\", \"originalName\": \"sliced baby Portobello mushrooms\", \"meta\": [\"sliced\"], \"image\": \"https://img.spoonacular.com/ingredients_100x100/portabello-mushrooms.jpg\"}, {\"id\": 10511297, \"amount\": 1.0, \"unit\": \"teaspoon\", \"unitLong\": \"teaspoon\", \"unitShort\": \"tsp\", \"aisle\": \"Produce\", \"name\": \"parsley\", \"original\": \"1 teaspoon minced fresh parsley, if desired\", \"originalName\": \"minced fresh parsley, if desired\", \"meta\": [\"fresh\", \"minced\"], \"extendedName\": \"fresh parsley\", \"image\": \"https://img.spoonacular.com/ingredients_100x100/parsley.jpg\"}, {\"id\": 1077, \"amount\": 0.5, \"unit\": \"cup\", \"unitLong\": \"cups\", \"unitShort\": \"cup\", \"aisle\": \"Milk, Eggs, Other Dairy\", \"name\": \"milk\", \"original\": \"1/2 cup milk\", \"originalName\": \"milk\", \"meta\": [], \"image\": \"https://img.spoonacular.com/ingredients_100x100/milk.png\"}, {\"id\": 11677, \"amount\": 0.5, \"unit\": \"large\", \"unitLong\": \"larges\", \"unitShort\": \"large\", \"aisle\": \"Produce\", \"name\": \"shallot\", \"original\": \"1/2 large shallot, thinly slivered\", \"originalName\": \"shallot, thinly slivered\", \"meta\": [], \"image\": \"https://img.spoonacular.com/ingredients_100x100/shallots.jpg\"}, {\"id\": 11583, \"amount\": 0.25, \"unit\": \"cup\", \"unitLong\": \"cups\", \"unitShort\": \"cup\", \"aisle\": \"Frozen\", \"name\": \"savory vegetable\", \"original\": \"1/4 cup Alouette\\u00ae Garlic & Herbs, or Alouette\\u00ae Savory Vegetable\", \"originalName\": \"Alouette\\u00ae Garlic & Herbs, or Alouette\\u00ae Savory Vegetable\", \"meta\": [\"alouette\\u00ae\"], \"image\": \"https://img.spoonacular.com/ingredients_100x100/mixed-vegetables.png\"}], \"usedIngredients\": [{\"id\": 10023583, \"amount\": 2.0, \"unit\": \"ounces\", \"unitLong\": \"ounces\", \"unitShort\": \"oz\", \"aisle\": \"Meat\", \"name\": \"beef tenderloin steaks\", \"original\": \"2 ounces beef tenderloin steaks, 11/2 inches thick (6 to 8 ounes each)\", \"originalName\": \"beef tenderloin steaks, 11/2 inches thick (6 to 8 ounes each)\", \"meta\": [\"thick\"], \"image\": \"https://img.spoonacular.com/ingredients_100x100/beef-tenderloin.jpg\"}, {\"id\": 1001, \"amount\": 0.25, \"unit\": \"cup\", \"unitLong\": \"cups\", \"unitShort\": \"cup\", \"aisle\": \"Milk, Eggs, Other Dairy\", \"name\": \"butter\", \"original\": \"1/4 cup butter\", \"originalName\": \"butter\", \"meta\": [], \"image\": \"https://img.spoonacular.com/ingredients_100x100/butter-sliced.jpg\"}], \"unusedIngredients\": [{\"id\": 98924, \"amount\": 1.0, \"unit\": \"serving\", \"unitLong\": \"serving\", \"unitShort\": \"serving\", \"aisle\": \"Baking\", \"name\": \"pizza\", \"original\": \"pizza\", \"originalName\": \"pizza\", \"meta\": [], \"image\": \"https://img.spoonacular.com/ingredients_100x100/brown-flour.jpg\"}, {\"id\": 9302, \"amount\": 1.0, \"unit\": \"serving\", \"unitLong\": \"serving\", \"unitShort\": \"serving\", \"aisle\": \"Produce\", \"name\": \"raspberries\", \"original\": \"raspberries\", \"originalName\": \"raspberries\", \"meta\": [], \"image\": \"https://img.spoonacular.com/ingredients_100x100/raspberries.jpg\"}, {\"id\": 9218, \"amount\": 1.0, \"unit\": \"serving\", \"unitLong\": \"serving\", \"unitShort\": \"serving\", \"aisle\": \"Canned and Jarred;Produce\", \"name\": \"mandarins\", \"original\": \"mandarins\", \"originalName\": \"mandarins\", \"meta\": [], \"image\": \"https://img.spoonacular.com/ingredients_100x100/mandarin-or-tangerines-or-clementines.jpg\"}, {\"id\": 10218, \"amount\": 1.0, \"unit\": \"serving\", \"unitLong\": \"serving\", \"unitShort\": \"serving\", \"aisle\": \"Meat\", \"name\": \"pork tenderloin\", \"original\": \"pork tenderloin\", \"originalName\": \"pork tenderloin\", \"meta\": [], \"image\": \"https://img.spoonacular.com/ingredients_100x100/pork-tenderloin-raw.png\"}, {\"id\": 5165, \"amount\": 1.0, \"unit\": \"serving\", \"unitLong\": \"serving\", \"unitShort\": \"serving\", \"aisle\": \"Meat\", \"name\": \"turkey schnitzel\", \"original\": \"turkey schnitzel\", \"originalName\": \"turkey schnitzel\", \"meta\": [], \"image\": \"https://img.spoonacular.com/ingredients_100x100/turkey-raw-whole.jpg\"}, {\"id\": 17164, \"amount\": 1.0, \"unit\": \"serving\", \"unitLong\": \"serving\", \"unitShort\": \"serving\", \"aisle\": \"Meat\", \"name\": \"venison\", \"original\": \"venison\", \"originalName\": \"venison\", \"meta\": [], \"image\": \"https://img.spoonacular.com/ingredients_100x100/deer-medaillons.jpg\"}, {\"id\": 93681, \"amount\": 1.0, \"unit\": \"serving\", \"unitLong\": \"serving\", \"unitShort\": \"serving\", \"aisle\": \"Meat\", \"name\": \"iberico pork\", \"original\": \"Iberico pork\", \"originalName\": \"Iberico pork\", \"meta\": [], \"image\": \"https://img.spoonacular.com/ingredients_100x100/proscuitto.jpg\"}, {\"id\": 13227, \"amount\": 1.0, \"unit\": \"serving\", \"unitLong\": \"serving\", \"unitShort\": \"serving\", \"aisle\": \"Meat\", \"name\": \"lamb shank\", \"original\": \"lamb shank\", \"originalName\": \"lamb shank\", \"meta\": [], \"image\": \"https://img.spoonacular.com/ingredients_100x100/sliced-beef-shank.png\"}], \"likes\": 40}, {\"id\": 658947, \"title\": \"S'mores-n-berry Bars for National S'mores Day - August 10\", \"image\": \"https://img.spoonacular.com/recipes/658947-312x231.jpg\", \"imageType\": \"jpg\", \"usedIngredientCount\": 2, \"missedIngredientCount\": 5, \"missedIngredients\": [{\"id\": 18632, \"amount\": 1.0, \"unit\": \"package\", \"unitLong\": \"package\", \"unitShort\": \"pkg\", \"aisle\": \"Baking\", \"name\": \"brownie mix\", \"original\": \"1 package prepared brownie mix\", \"originalName\": \"prepared brownie mix\", \"meta\": [\"prepared\"], \"extendedName\": \"cooked brownie mix\", \"image\": \"https://img.spoonacular.com/ingredients_100x100/brownie-isolated.png\"}, {\"id\": 1123, \"amount\": 1.0, \"unit\": \"\", \"unitLong\": \"\", \"unitShort\": \"\", \"aisle\": \"Milk, Eggs, Other Dairy\", \"name\": \"egg\", \"original\": \"1 egg\", \"originalName\": \"egg\", \"meta\": [], \"image\": \"https://img.spoonacular.com/ingredients_100x100/egg.png\"}, {\"id\": 10018617, \"amount\": 1.5, \"unit\": \"cups\", \"unitLong\": \"cups\", \"unitShort\": \"cup\", \"aisle\": \"Sweet Snacks\", \"name\": \"graham cracker crumbs\", \"original\": \"1 1/2 cups crushed graham cracker crumbs\", \"originalName\": \"crushed graham cracker crumbs\", \"meta\": [\"crushed\"], \"image\": \"https://img.spoonacular.com/ingredients_100x100/graham-crackers.jpg\"}, {\"id\": 18617, \"amount\": 2.0, \"unit\": \"\", \"unitLong\": \"\", \"unitShort\": \"\", \"aisle\": \"Sweet Snacks\", \"name\": \"graham crackers\", \"original\": \"2 whole graham crackers\", \"originalName\": \"whole graham crackers\", \"meta\": [\"whole\"], \"extendedName\": \"whole graham crackers\", \"image\": \"https://img.spoonacular.com/ingredients_100x100/graham-crackers.jpg\"}, {\"id\": 10119116, \"amount\": 1.5, \"unit\": \"\", \"unitLong\": \"\", \"unitShort\": \"\", \"aisle\": \"Baking\", \"name\": \"marshmallows\", \"original\": \"1.5 mini marshmallows\", \"originalName\": \"mini marshmallows\", \"meta\": [\"mini\"], \"image\": \"https://img.spoonacular.com/ingredients_100x100/marshmallows-mini.png\"}], \"usedIngredients\": [{\"id\": 9302, \"amount\": 1.0, \"unit\": \"pint\", \"unitLong\": \"pint\", \"unitShort\": \"pts\", \"aisle\": \"Produce\", \"name\": \"raspberries\", \"original\": \"1 pint fresh raspberries, cleaned, dried and cut in half\", \"originalName\": \"fresh raspberries, cleaned, dried and cut in half\", \"meta\": [\"dried\", \"fresh\", \"cleaned\", \"cut in half\"], \"extendedName\": \"fresh dried raspberries\", \"image\": \"https://img.spoonacular.com/ingredients_100x100/raspberries.jpg\"}, {\"id\": 1145, \"amount\": 6.0, \"unit\": \"tablespoons\", \"unitLong\": \"tablespoons\", \"unitShort\": \"Tbsp\", \"aisle\": \"Milk, Eggs, Other Dairy\", \"name\": \"butter\", \"original\": \"6 tablespoons unsalted butter, melted\", \"originalName\": \"unsalted butter, melted\", \"meta\": [\"unsalted\", \"melted\"], \"extendedName\": \"unsalted butter\", \"image\": \"https://img.spoonacular.com/ingredients_100x100/butter-sliced.jpg\"}], \"unusedIngredients\": [{\"id\": 98924, \"amount\": 1.0, \"unit\": \"serving\", \"unitLong\": \"serving\", \"unitShort\": \"serving\", \"aisle\": \"Baking\", \"name\": \"pizza\", \"original\": \"pizza\", \"originalName\": \"pizza\", \"meta\": [], \"image\": \"https://img.spoonacular.com/ingredients_100x100/brown-flour.jpg\"}, {\"id\": 9218, \"amount\": 1.0, \"unit\": \"serving\", \"unitLong\": \"serving\", \"unitShort\": \"serving\", \"aisle\": \"Canned and Jarred;Produce\", \"name\": \"mandarins\", \"original\": \"mandarins\", \"originalName\": \"mandarins\", \"meta\": [], \"image\": \"https://img.spoonacular.com/ingredients_100x100/mandarin-or-tangerines-or-clementines.jpg\"}, {\"id\": 10218, \"amount\": 1.0, \"unit\": \"serving\", \"unitLong\": \"serving\", \"unitShort\": \"serving\", \"aisle\": \"Meat\", \"name\": \"pork tenderloin\", \"original\": \"pork tenderloin\", \"originalName\": \"pork tenderloin\", \"meta\": [], \"image\": \"https://img.spoonacular.com/ingredients_100x100/pork-tenderloin-raw.png\"}, {\"id\": 5165, \"amount\": 1.0, \"unit\": \"serving\", \"unitLong\": \"serving\", \"unitShort\": \"serving\", \"aisle\": \"Meat\", \"name\": \"turkey schnitzel\", \"original\": \"turkey schnitzel\", \"originalName\": \"turkey schnitzel\", \"meta\": [], \"image\": \"https://img.spoonacular.com/ingredients_100x100/turkey-raw-whole.jpg\"}, {\"id\": 17164, \"amount\": 1.0, \"unit\": \"serving\", \"unitLong\": \"serving\", \"unitShort\": \"serving\", \"aisle\": \"Meat\", \"name\": \"venison\", \"original\": \"venison\", \"originalName\": \"venison\", \"meta\": [], \"image\": \"https://img.spoonacular.com/ingredients_100x100/deer-medaillons.jpg\"}, {\"id\": 23572, \"amount\": 1.0, \"unit\": \"serving\", \"unitLong\": \"serving\", \"unitShort\": \"serving\", \"aisle\": \"Frozen;Meat\", \"name\": \"beef roulades\", \"original\": \"beef roulades\", \"originalName\": \"beef roulades\", \"meta\": [], \"image\": \"https://img.spoonacular.com/ingredients_100x100/beef-cubes-raw.png\"}, {\"id\": 93681, \"amount\": 1.0, \"unit\": \"serving\", \"unitLong\": \"serving\", \"unitShort\": \"serving\", \"aisle\": \"Meat\", \"name\": \"iberico pork\", \"original\": \"Iberico pork\", \"originalName\": \"Iberico pork\", \"meta\": [], \"image\": \"https://img.spoonacular.com/ingredients_100x100/proscuitto.jpg\"}, {\"id\": 13227, \"amount\": 1.0, \"unit\": \"serving\", \"unitLong\": \"serving\", \"unitShort\": \"serving\", \"aisle\": \"Meat\", \"name\": \"lamb shank\", \"original\": \"lamb shank\", \"originalName\": \"lamb shank\", \"meta\": [], \"image\": \"https://img.spoonacular.com/ingredients_100x100/sliced-beef-shank.png\"}], \"likes\": 12}, {\"id\": 651326, \"title\": \"Meat rolls with prosciutto and sage\", \"image\": \"https://img.spoonacular.com/recipes/651326-312x231.jpg\", \"imageType\": \"jpg\", \"usedIngredientCount\": 2, \"missedIngredientCount\": 5, \"missedIngredients\": [{\"id\": 1042027, \"amount\": 2.0, \"unit\": \"tsp\", \"unitLong\": \"teaspoons\", \"unitShort\": \"tsp\", \"aisle\": null, \"name\": \"similar seasoning\", \"original\": \"2 tsp Vegeta Natur or similar seasoning\", \"originalName\": \"Vegeta Natur or similar seasoning\", \"meta\": [], \"image\": \"https://img.spoonacular.com/ingredients_100x100/seasoning.png\"}, {\"id\": 10010123, \"amount\": 100.0, \"unit\": \"g\", \"unitLong\": \"grams\", \"unitShort\": \"g\", \"aisle\": \"Meat\", \"name\": \"prosciutto\", \"original\": \"100 g prosciutto, cut into thin slices\", \"originalName\": \"prosciutto, cut into thin slices\", \"meta\": [\"cut into thin slices\"], \"image\": \"https://img.spoonacular.com/ingredients_100x100/proscuitto.jpg\"}, {\"id\": 99226, \"amount\": 4.0, \"unit\": \"\", \"unitLong\": \"\", \"unitShort\": \"\", \"aisle\": \"Spices and Seasonings\", \"name\": \"sage leaves\", \"original\": \"4 sage leaves\", \"originalName\": \"sage leaves\", \"meta\": [], \"image\": \"https://img.spoonacular.com/ingredients_100x100/fresh-sage.png\"}, {\"id\": 20027, \"amount\": 1.0, \"unit\": \"tsp\", \"unitLong\": \"teaspoon\", \"unitShort\": \"tsp\", \"aisle\": \"Baking\", \"name\": \"corn starch\", \"original\": \"1 tsp corn starch\", \"originalName\": \"corn starch\", \"meta\": [], \"image\": \"https://img.spoonacular.com/ingredients_100x100/white-powder.jpg\"}, {\"id\": 14106, \"amount\": 200.0, \"unit\": \"ml\", \"unitLong\": \"milliliters\", \"unitShort\": \"ml\", \"aisle\": \"Alcoholic Beverages\", \"name\": \"white wine\", \"original\": \"200 ml white wine\", \"originalName\": \"white wine\", \"meta\": [], \"image\": \"https://img.spoonacular.com/ingredients_100x100/white-wine.jpg\"}], \"usedIngredients\": [{\"id\": 23657, \"amount\": 600.0, \"unit\": \"g\", \"unitLong\": \"grams\", \"unitShort\": \"g\", \"aisle\": \"Meat\", \"name\": \"beef flank steaks\", \"original\": \"4 veal or beef flank steaks (600 g)\", \"originalName\": \"veal or beef flank steaks\", \"meta\": [], \"image\": \"https://img.spoonacular.com/ingredients_100x100/flank-steak.jpg\"}, {\"id\": 1001, \"amount\": 2.0, \"unit\": \"Tbs\", \"unitLong\": \"Tbs\", \"unitShort\": \"Tbsp\", \"aisle\": \"Milk, Eggs, Other Dairy\", \"name\": \"butter\", \"original\": \"2 Tbs butter\", \"originalName\": \"butter\", \"meta\": [], \"image\": \"https://img.spoonacular.com/ingredients_100x100/butter-sliced.jpg\"}], \"unusedIngredients\": [{\"id\": 98924, \"amount\": 1.0, \"unit\": \"serving\", \"unitLong\": \"serving\", \"unitShort\": \"serving\", \"aisle\": \"Baking\", \"name\": \"pizza\", \"original\": \"pizza\", \"originalName\": \"pizza\", \"meta\": [], \"image\": \"https://img.spoonacular.com/ingredients_100x100/brown-flour.jpg\"}, {\"id\": 9302, \"amount\": 1.0, \"unit\": \"serving\", \"unitLong\": \"serving\", \"unitShort\": \"serving\", \"aisle\": \"Produce\", \"name\": \"raspberries\", \"original\": \"raspberries\", \"originalName\": \"raspberries\", \"meta\": [], \"image\": \"https://img.spoonacular.com/ingredients_100x100/raspberries.jpg\"}, {\"id\": 9218, \"amount\": 1.0, \"unit\": \"serving\", \"unitLong\": \"serving\", \"unitShort\": \"serving\", \"aisle\": \"Canned and Jarred;Produce\", \"name\": \"mandarins\", \"original\": \"mandarins\", \"originalName\": \"mandarins\", \"meta\": [], \"image\": \"https://img.spoonacular.com/ingredients_100x100/mandarin-or-tangerines-or-clementines.jpg\"}, {\"id\": 10218, \"amount\": 1.0, \"unit\": \"serving\", \"unitLong\": \"serving\", \"unitShort\": \"serving\", \"aisle\": \"Meat\", \"name\": \"pork tenderloin\", \"original\": \"pork tenderloin\", \"originalName\": \"pork tenderloin\", \"meta\": [], \"image\": \"https://img.spoonacular.com/ingredients_100x100/pork-tenderloin-raw.png\"}, {\"id\": 5165, \"amount\": 1.0, \"unit\": \"serving\", \"unitLong\": \"serving\", \"unitShort\": \"serving\", \"aisle\": \"Meat\", \"name\": \"turkey schnitzel\", \"original\": \"turkey schnitzel\", \"originalName\": \"turkey schnitzel\", \"meta\": [], \"image\": \"https://img.spoonacular.com/ingredients_100x100/turkey-raw-whole.jpg\"}, {\"id\": 17164, \"amount\": 1.0, \"unit\": \"serving\", \"unitLong\": \"serving\", \"unitShort\": \"serving\", \"aisle\": \"Meat\", \"name\": \"venison\", \"original\": \"venison\", \"originalName\": \"venison\", \"meta\": [], \"image\": \"https://img.spoonacular.com/ingredients_100x100/deer-medaillons.jpg\"}, {\"id\": 93681, \"amount\": 1.0, \"unit\": \"serving\", \"unitLong\": \"serving\", \"unitShort\": \"serving\", \"aisle\": \"Meat\", \"name\": \"iberico pork\", \"original\": \"Iberico pork\", \"originalName\": \"Iberico pork\", \"meta\": [], \"image\": \"https://img.spoonacular.com/ingredients_100x100/proscuitto.jpg\"}, {\"id\": 13227, \"amount\": 1.0, \"unit\": \"serving\", \"unitLong\": \"serving\", \"unitShort\": \"serving\", \"aisle\": \"Meat\", \"name\": \"lamb shank\", \"original\": \"lamb shank\", \"originalName\": \"lamb shank\", \"meta\": [], \"image\": \"https://img.spoonacular.com/ingredients_100x100/sliced-beef-shank.png\"}], \"likes\": 8}, {\"id\": 652359, \"title\": \"Monte Carlo Sandwich\", \"image\": \"https://img.spoonacular.com/recipes/652359-312x231.jpg\", \"imageType\": \"jpg\", \"usedIngredientCount\": 2, \"missedIngredientCount\": 5, \"missedIngredients\": [{\"id\": 1041009, \"amount\": 9.0, \"unit\": \"servings\", \"unitLong\": \"servings\", \"unitShort\": \"servings\", \"aisle\": \"Cheese\", \"name\": \"cheese\", \"original\": \"Cheese, sliced\", \"originalName\": \"Cheese, sliced\", \"meta\": [\"sliced\"], \"image\": \"https://img.spoonacular.com/ingredients_100x100/cheddar-cheese.png\"}, {\"id\": 10802, \"amount\": 9.0, \"unit\": \"servings\", \"unitLong\": \"servings\", \"unitShort\": \"servings\", \"aisle\": \"Meat\", \"name\": \"ham\", \"original\": \"Cooked ham, sliced\", \"originalName\": \"Cooked ham, sliced\", \"meta\": [\"cooked\", \"sliced\"], \"extendedName\": \"cooked ham\", \"image\": \"https://img.spoonacular.com/ingredients_100x100/ham-whole.jpg\"}, {\"id\": 1123, \"amount\": 2.0, \"unit\": \"\", \"unitLong\": \"\", \"unitShort\": \"\", \"aisle\": \"Milk, Eggs, Other Dairy\", \"name\": \"eggs\", \"original\": \"2 Eggs, beaten lightly\", \"originalName\": \"Eggs, beaten lightly\", \"meta\": [\"beaten\"], \"image\": \"https://img.spoonacular.com/ingredients_100x100/egg.png\"}, {\"id\": 1077, \"amount\": 1.0, \"unit\": \"cup\", \"unitLong\": \"cup\", \"unitShort\": \"cup\", \"aisle\": \"Milk, Eggs, Other Dairy\", \"name\": \"milk\", \"original\": \"cup milk\", \"originalName\": \"milk\", \"meta\": [], \"image\": \"https://img.spoonacular.com/ingredients_100x100/milk.png\"}, {\"id\": 18069, \"amount\": 12.0, \"unit\": \"slices\", \"unitLong\": \"slices\", \"unitShort\": \"slice\", \"aisle\": \"Bakery/Bread\", \"name\": \"sandwich bread\", \"original\": \"12 slices white sandwich bread\", \"originalName\": \"white sandwich bread\", \"meta\": [\"white\"], \"extendedName\": \"white sandwich bread\", \"image\": \"https://img.spoonacular.com/ingredients_100x100/white-bread.jpg\"}], \"usedIngredients\": [{\"id\": 1001, \"amount\": 0.5, \"unit\": \"pound\", \"unitLong\": \"pounds\", \"unitShort\": \"lb\", \"aisle\": \"Milk, Eggs, Other Dairy\", \"name\": \"butter\", \"original\": \"1/2 pound Butter, melted\", \"originalName\": \"Butter, melted\", \"meta\": [\"melted\"], \"image\": \"https://img.spoonacular.com/ingredients_100x100/butter-sliced.jpg\"}, {\"id\": 5165, \"amount\": 9.0, \"unit\": \"servings\", \"unitLong\": \"servings\", \"unitShort\": \"servings\", \"aisle\": \"Meat\", \"name\": \"turkey\", \"original\": \"Turkey, sliced\", \"originalName\": \"Turkey, sliced\", \"meta\": [\"sliced\"], \"image\": \"https://img.spoonacular.com/ingredients_100x100/turkey-raw-whole.jpg\"}], \"unusedIngredients\": [{\"id\": 98924, \"amount\": 1.0, \"unit\": \"serving\", \"unitLong\": \"serving\", \"unitShort\": \"serving\", \"aisle\": \"Baking\", \"name\": \"pizza\", \"original\": \"pizza\", \"originalName\": \"pizza\", \"meta\": [], \"image\": \"https://img.spoonacular.com/ingredients_100x100/brown-flour.jpg\"}, {\"id\": 9302, \"amount\": 1.0, \"unit\": \"serving\", \"unitLong\": \"serving\", \"unitShort\": \"serving\", \"aisle\": \"Produce\", \"name\": \"raspberries\", \"original\": \"raspberries\", \"originalName\": \"raspberries\", \"meta\": [], \"image\": \"https://img.spoonacular.com/ingredients_100x100/raspberries.jpg\"}, {\"id\": 9218, \"amount\": 1.0, \"unit\": \"serving\", \"unitLong\": \"serving\", \"unitShort\": \"serving\", \"aisle\": \"Canned and Jarred;Produce\", \"name\": \"mandarins\", \"original\": \"mandarins\", \"originalName\": \"mandarins\", \"meta\": [], \"image\": \"https://img.spoonacular.com/ingredients_100x100/mandarin-or-tangerines-or-clementines.jpg\"}, {\"id\": 10218, \"amount\": 1.0, \"unit\": \"serving\", \"unitLong\": \"serving\", \"unitShort\": \"serving\", \"aisle\": \"Meat\", \"name\": \"pork tenderloin\", \"original\": \"pork tenderloin\", \"originalName\": \"pork tenderloin\", \"meta\": [], \"image\": \"https://img.spoonacular.com/ingredients_100x100/pork-tenderloin-raw.png\"}, {\"id\": 17164, \"amount\": 1.0, \"unit\": \"serving\", \"unitLong\": \"serving\", \"unitShort\": \"serving\", \"aisle\": \"Meat\", \"name\": \"venison\", \"original\": \"venison\", \"originalName\": \"venison\", \"meta\": [], \"image\": \"https://img.spoonacular.com/ingredients_100x100/deer-medaillons.jpg\"}, {\"id\": 23572, \"amount\": 1.0, \"unit\": \"serving\", \"unitLong\": \"serving\", \"unitShort\": \"serving\", \"aisle\": \"Frozen;Meat\", \"name\": \"beef roulades\", \"original\": \"beef roulades\", \"originalName\": \"beef roulades\", \"meta\": [], \"image\": \"https://img.spoonacular.com/ingredients_100x100/beef-cubes-raw.png\"}, {\"id\": 93681, \"amount\": 1.0, \"unit\": \"serving\", \"unitLong\": \"serving\", \"unitShort\": \"serving\", \"aisle\": \"Meat\", \"name\": \"iberico pork\", \"original\": \"Iberico pork\", \"originalName\": \"Iberico pork\", \"meta\": [], \"image\": \"https://img.spoonacular.com/ingredients_100x100/proscuitto.jpg\"}, {\"id\": 13227, \"amount\": 1.0, \"unit\": \"serving\", \"unitLong\": \"serving\", \"unitShort\": \"serving\", \"aisle\": \"Meat\", \"name\": \"lamb shank\", \"original\": \"lamb shank\", \"originalName\": \"lamb shank\", \"meta\": [], \"image\": \"https://img.spoonacular.com/ingredients_100x100/sliced-beef-shank.png\"}], \"likes\": 1}, {\"id\": 648739, \"title\": \"Kangaroo Striploin Tartlet With Sweet Potato and Bush Tomato Jus\", \"image\": \"https://img.spoonacular.com/recipes/648739-312x231.jpg\", \"imageType\": \"jpg\", \"usedIngredientCount\": 2, \"missedIngredientCount\": 5, \"missedIngredients\": [{\"id\": 1032027, \"amount\": 20.0, \"unit\": \"grams\", \"unitLong\": \"grams\", \"unitShort\": \"g\", \"aisle\": \"Spices and Seasonings\", \"name\": \"wildfire spice\", \"original\": \"20 grams Wildfire Spice*\", \"originalName\": \"Wildfire Spice\", \"meta\": [], \"image\": \"https://img.spoonacular.com/ingredients_100x100/seasoning.png\"}, {\"id\": 6996, \"amount\": 80.0, \"unit\": \"milliliters\", \"unitLong\": \"milliliters\", \"unitShort\": \"ml\", \"aisle\": \"Canned and Jarred\", \"name\": \"game jus\", \"original\": \"80 milliliters game jus\", \"originalName\": \"game jus\", \"meta\": [], \"image\": \"https://img.spoonacular.com/ingredients_100x100/gravy.jpg\"}, {\"id\": 1053, \"amount\": 50.0, \"unit\": \"milliliters\", \"unitLong\": \"milliliters\", \"unitShort\": \"ml\", \"aisle\": \"Milk, Eggs, Other Dairy\", \"name\": \"cream\", \"original\": \"50 milliliters cream\", \"originalName\": \"cream\", \"meta\": [], \"image\": \"https://img.spoonacular.com/ingredients_100x100/fluid-cream.jpg\"}, {\"id\": 18337, \"amount\": 20.0, \"unit\": \"\", \"unitLong\": \"\", \"unitShort\": \"\", \"aisle\": \"Frozen\", \"name\": \"pastry cases\", \"original\": \"20 pastry cases\", \"originalName\": \"pastry cases\", \"meta\": [], \"image\": \"https://img.spoonacular.com/ingredients_100x100/puff-pastry.png\"}, {\"id\": 11507, \"amount\": 200.0, \"unit\": \"grams\", \"unitLong\": \"grams\", \"unitShort\": \"g\", \"aisle\": \"Produce\", \"name\": \"sweet potato\", \"original\": \"200 grams sweet potato\", \"originalName\": \"sweet potato\", \"meta\": [], \"image\": \"https://img.spoonacular.com/ingredients_100x100/sweet-potato.png\"}], \"usedIngredients\": [{\"id\": 1001, \"amount\": 20.0, \"unit\": \"grams\", \"unitLong\": \"grams\", \"unitShort\": \"g\", \"aisle\": \"Milk, Eggs, Other Dairy\", \"name\": \"butter\", \"original\": \"20 grams butter\", \"originalName\": \"butter\", \"meta\": [], \"image\": \"https://img.spoonacular.com/ingredients_100x100/butter-sliced.jpg\"}, {\"id\": 13913, \"amount\": 1.0, \"unit\": \"\", \"unitLong\": \"\", \"unitShort\": \"\", \"aisle\": \"Meat\", \"name\": \"kangaroo striploin\", \"original\": \"1 kangaroo striploin\", \"originalName\": \"kangaroo striploin\", \"meta\": [], \"image\": \"https://img.spoonacular.com/ingredients_100x100/strip-steak.jpg\"}], \"unusedIngredients\": [{\"id\": 98924, \"amount\": 1.0, \"unit\": \"serving\", \"unitLong\": \"serving\", \"unitShort\": \"serving\", \"aisle\": \"Baking\", \"name\": \"pizza\", \"original\": \"pizza\", \"originalName\": \"pizza\", \"meta\": [], \"image\": \"https://img.spoonacular.com/ingredients_100x100/brown-flour.jpg\"}, {\"id\": 9302, \"amount\": 1.0, \"unit\": \"serving\", \"unitLong\": \"serving\", \"unitShort\": \"serving\", \"aisle\": \"Produce\", \"name\": \"raspberries\", \"original\": \"raspberries\", \"originalName\": \"raspberries\", \"meta\": [], \"image\": \"https://img.spoonacular.com/ingredients_100x100/raspberries.jpg\"}, {\"id\": 9218, \"amount\": 1.0, \"unit\": \"serving\", \"unitLong\": \"serving\", \"unitShort\": \"serving\", \"aisle\": \"Canned and Jarred;Produce\", \"name\": \"mandarins\", \"original\": \"mandarins\", \"originalName\": \"mandarins\", \"meta\": [], \"image\": \"https://img.spoonacular.com/ingredients_100x100/mandarin-or-tangerines-or-clementines.jpg\"}, {\"id\": 10218, \"amount\": 1.0, \"unit\": \"serving\", \"unitLong\": \"serving\", \"unitShort\": \"serving\", \"aisle\": \"Meat\", \"name\": \"pork tenderloin\", \"original\": \"pork tenderloin\", \"originalName\": \"pork tenderloin\", \"meta\": [], \"image\": \"https://img.spoonacular.com/ingredients_100x100/pork-tenderloin-raw.png\"}, {\"id\": 5165, \"amount\": 1.0, \"unit\": \"serving\", \"unitLong\": \"serving\", \"unitShort\": \"serving\", \"aisle\": \"Meat\", \"name\": \"turkey schnitzel\", \"original\": \"turkey schnitzel\", \"originalName\": \"turkey schnitzel\", \"meta\": [], \"image\": \"https://img.spoonacular.com/ingredients_100x100/turkey-raw-whole.jpg\"}, {\"id\": 17164, \"amount\": 1.0, \"unit\": \"serving\", \"unitLong\": \"serving\", \"unitShort\": \"serving\", \"aisle\": \"Meat\", \"name\": \"venison\", \"original\": \"venison\", \"originalName\": \"venison\", \"meta\": [], \"image\": \"https://img.spoonacular.com/ingredients_100x100/deer-medaillons.jpg\"}, {\"id\": 93681, \"amount\": 1.0, \"unit\": \"serving\", \"unitLong\": \"serving\", \"unitShort\": \"serving\", \"aisle\": \"Meat\", \"name\": \"iberico pork\", \"original\": \"Iberico pork\", \"originalName\": \"Iberico pork\", \"meta\": [], \"image\": \"https://img.spoonacular.com/ingredients_100x100/proscuitto.jpg\"}, {\"id\": 13227, \"amount\": 1.0, \"unit\": \"serving\", \"unitLong\": \"serving\", \"unitShort\": \"serving\", \"aisle\": \"Meat\", \"name\": \"lamb shank\", \"original\": \"lamb shank\", \"originalName\": \"lamb shank\", \"meta\": [], \"image\": \"https://img.spoonacular.com/ingredients_100x100/sliced-beef-shank.png\"}], \"likes\": 1}]\n"
     ]
    }
   ],
   "source": [
    "y =json.dumps(recipes)\n",
    "print(y)"
   ]
  },
  {
   "cell_type": "code",
   "execution_count": null,
   "id": "fe1f61c1",
   "metadata": {},
   "outputs": [],
   "source": []
  }
 ],
 "metadata": {
  "kernelspec": {
   "display_name": ".venv",
   "language": "python",
   "name": "python3"
  },
  "language_info": {
   "codemirror_mode": {
    "name": "ipython",
    "version": 3
   },
   "file_extension": ".py",
   "mimetype": "text/x-python",
   "name": "python",
   "nbconvert_exporter": "python",
   "pygments_lexer": "ipython3",
   "version": "3.9.6"
  }
 },
 "nbformat": 4,
 "nbformat_minor": 5
}
